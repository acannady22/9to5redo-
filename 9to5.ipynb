{
    "metadata": {
        "kernelspec": {
            "name": "SQL",
            "display_name": "SQL",
            "language": "sql"
        },
        "language_info": {
            "name": "sql",
            "version": ""
        },
        "extensions": {
            "azuredatastudio": {
                "version": 1,
                "views": []
            }
        }
    },
    "nbformat_minor": 2,
    "nbformat": 4,
    "cells": [
        {
            "cell_type": "markdown",
            "source": [
                "# <span style=\"font-size: 20pt; font-family: Montserrat, sans-serif; color: rgb(92, 148, 206); background-color: rgb(255, 255, 255); font-weight: 700; font-variant-east-asian: normal; vertical-align: baseline; white-space: pre-wrap;\">Graded Assignment 3: 9 to 5</span>\n",
                "\n",
                "  \n",
                "\n",
                "<span style=\"font-size: 10pt; font-family: &quot;Times New Roman&quot;; color: rgb(102, 102, 102); background-color: rgb(255, 255, 255); font-variant-east-asian: normal; vertical-align: baseline; white-space: pre-wrap;\">Time to show off your SQL skills! For each question, copy the SQL query you used and make note of the answer.</span>\n",
                "\n",
                "  \n",
                "\n",
                "## <span style=\"font-size: 12pt; font-family: Montserrat, sans-serif; color: rgb(53, 74, 95); background-color: rgb(255, 255, 255); font-weight: 700; font-variant-east-asian: normal; vertical-align: baseline; white-space: pre-wrap;\">The Dataset</span>\n",
                "\n",
                "<span style=\"font-size: 10pt; font-family: &quot;Times New Roman&quot;; color: rgb(102, 102, 102); background-color: rgb(255, 255, 255); font-variant-east-asian: normal; vertical-align: baseline; white-space: pre-wrap;\">For this assignment, you will be using the Bureau of Labor Statistics (BLS) Current Employment Survey (CES) results which can be found on</span> [<span style=\"font-size: 10pt; font-family: &quot;Times New Roman&quot;; color: rgb(17, 85, 204); background-color: rgb(255, 255, 255); font-variant-east-asian: normal; text-decoration-line: underline; vertical-align: baseline; white-space: pre-wrap;\">Kaggle</span>](https://www.kaggle.com/bls/employment)<span style=\"font-size: 10pt; font-family: &quot;Times New Roman&quot;; color: rgb(102, 102, 102); background-color: rgb(255, 255, 255); font-variant-east-asian: normal; vertical-align: baseline; white-space: pre-wrap;\">.</span>\n",
                "\n",
                "  \n",
                "\n",
                "## <span style=\"font-size: 12pt; font-family: Montserrat, sans-serif; color: rgb(53, 74, 95); background-color: rgb(255, 255, 255); font-weight: 700; font-variant-east-asian: normal; vertical-align: baseline; white-space: pre-wrap;\">Business Issue</span>\n",
                "\n",
                "<span style=\"font-size: 10pt; font-family: &quot;Times New Roman&quot;; color: rgb(102, 102, 102); background-color: rgb(255, 255, 255); font-variant-east-asian: normal; vertical-align: baseline; white-space: pre-wrap;\">You are working for the Bureau of Labor Statistics with the United States government and have been approached by your boss with an important meeting request. You have been asked by your supervisor to meet with Dolly Parton whose nonprofit is looking to shed light on the state of employment in the United States. As part of the 9 to 5 project, their research is focused on production and nonsupervisory employees and how those employees fare compared to all employees in the United States. While the data the BLS collects from the CES is publicly available, Dolly Parton and her colleagues need your assistance navigating the thousands of rows in each table in LaborStatisticsDB.</span>\n",
                "\n",
                "  \n",
                "\n",
                "## <span style=\"font-size: 12pt; font-family: Montserrat, sans-serif; color: rgb(53, 74, 95); background-color: rgb(255, 255, 255); font-weight: 700; font-variant-east-asian: normal; vertical-align: baseline; white-space: pre-wrap;\">About the Dataset</span>\n",
                "\n",
                "<span style=\"font-size: 10pt; font-family: &quot;Times New Roman&quot;; color: rgb(102, 102, 102); background-color: rgb(255, 255, 255); font-variant-east-asian: normal; vertical-align: baseline; white-space: pre-wrap;\">This dataset comes directly from the Bureau of Labor Statistics’ Current Employment Survey (CES). Here are some things you need to know:</span>\n",
                "\n",
                "1. <span style=\"font-size: 10pt; background-color: rgb(255, 255, 255); font-variant-east-asian: normal; vertical-align: baseline; white-space: pre-wrap;\">The industry table contains an NAICS code. This is different from the industry code. NAICS stands for North American Industry Classification System.</span>\n",
                "    \n",
                "2. <span style=\"font-size: 10pt; background-color: rgb(255, 255, 255); font-variant-east-asian: normal; vertical-align: baseline; white-space: pre-wrap;\">Series ID is composed of multiple different codes. CES stands for Current Employment Survey, the name of the survey which collected the data. The industry code as specified by the BLS and the data type code as specified in the datatype table.</span>\n",
                "    \n",
                "\n",
                "  \n",
                "\n",
                "## <span style=\"font-size: 12pt; font-family: Montserrat, sans-serif; color: rgb(53, 74, 95); background-color: rgb(255, 255, 255); font-weight: 700; font-variant-east-asian: normal; vertical-align: baseline; white-space: pre-wrap;\">Set Up</span>\n",
                "\n",
                "<span style=\"font-size: 10pt; font-family: &quot;Times New Roman&quot;; color: rgb(102, 102, 102); background-color: rgb(255, 255, 255); font-variant-east-asian: normal; vertical-align: baseline; white-space: pre-wrap;\">To connect to the database, use the same connection info used during the SQL lessons.&nbsp;</span> \n",
                "\n",
                "<span style=\"font-size: 10pt; font-family: &quot;Times New Roman&quot;; color: rgb(102, 102, 102); background-color: rgb(255, 255, 255); font-variant-east-asian: normal; vertical-align: baseline; white-space: pre-wrap;\">For the assignment, we will be using the LaborStatisticsDB database.</span>\n",
                "\n",
                "  \n",
                "\n",
                "## <span style=\"font-size: 12pt; font-family: Montserrat, sans-serif; color: rgb(53, 74, 95); background-color: rgb(255, 255, 255); font-weight: 700; font-variant-east-asian: normal; vertical-align: baseline; white-space: pre-wrap;\">Database Exploration</span>\n",
                "\n",
                "<span style=\"font-size: 10pt; font-family: &quot;Times New Roman&quot;; color: rgb(102, 102, 102); background-color: rgb(255, 255, 255); font-variant-east-asian: normal; vertical-align: baseline; white-space: pre-wrap;\">To start with, let’s get to know the database further.</span>\n",
                "\n",
                "1. <span style=\"background-color: rgb(255, 255, 255); color: rgb(102, 102, 102); font-family: &quot;Times New Roman&quot;; font-size: 10pt; white-space: pre-wrap;\">Use this space to make note of each table in the database, the columns within each table, each column’s data type, and how the tables are connected. You can write this down or draw a diagram. Whatever method helps you get an understanding of what is going on with LaborStatisticsDB.</span>"
            ],
            "metadata": {
                "azdata_cell_guid": "28ea70c5-f0be-4197-b6c0-ade22886a708"
            },
            "attachments": {}
        },
        {
            "cell_type": "markdown",
            "source": [
                "To add a photo, diagram or document to your file, drop the file into the folder that holds this notebook.  Use the the link button to the right of the  \\</\\> symbol in the gray part of this cell, the link is just the name of your file."
            ],
            "metadata": {
                "azdata_cell_guid": "aeae906c-752c-49d3-b482-3ed6a4f54b6e"
            },
            "attachments": {}
        },
        {
            "cell_type": "code",
            "source": [
                "-- upload image"
            ],
            "metadata": {
                "azdata_cell_guid": "dbf3633e-8503-49e6-b128-cf010d1558cf",
                "language": "sql"
            },
            "outputs": [],
            "execution_count": null
        },
        {
            "cell_type": "markdown",
            "source": [
                "2. <span style=\"background-color: rgb(255, 255, 255); color: rgb(102, 102, 102); font-family: Arvo, serif; font-size: 10pt; white-space: pre-wrap;\">What is the datatype for women employees?</span>"
            ],
            "metadata": {
                "azdata_cell_guid": "01b111b7-baf1-4617-88bc-cd442826c9c9"
            },
            "attachments": {}
        },
        {
            "cell_type": "code",
            "source": [
                "-- The datatype of \"WOMEN EMPLOYEES\" is a string and the code is 10 and an integer. I tried using the DESCRIBE function and it didnt work. \n",
                "SELECT *\n",
                "FROM LaborStatisticsDB.dbo.datatype AS dt\n",
                "WHERE dt.data_type_text LIKE 'women%'"
            ],
            "metadata": {
                "azdata_cell_guid": "02fa547c-0bb7-4a40-81c2-f5c05154df04",
                "language": "sql"
            },
            "outputs": [
                {
                    "output_type": "display_data",
                    "data": {
                        "text/html": "(2 rows affected)"
                    },
                    "metadata": {}
                },
                {
                    "output_type": "display_data",
                    "data": {
                        "text/html": "Total execution time: 00:00:00.042"
                    },
                    "metadata": {}
                },
                {
                    "output_type": "execute_result",
                    "execution_count": 12,
                    "data": {
                        "application/vnd.dataresource+json": {
                            "schema": {
                                "fields": [
                                    {
                                        "name": "data_type_code"
                                    },
                                    {
                                        "name": "data_type_text"
                                    }
                                ]
                            },
                            "data": [
                                {
                                    "0": "10",
                                    "1": "WOMEN EMPLOYEES"
                                },
                                {
                                    "0": "39",
                                    "1": "WOMEN EMPLOYEES-TO-ALL EMPLOYEES RATIO"
                                }
                            ]
                        },
                        "text/html": "<table><tr><th>data_type_code</th><th>data_type_text</th></tr><tr><td>10</td><td>WOMEN EMPLOYEES</td></tr><tr><td>39</td><td>WOMEN EMPLOYEES-TO-ALL EMPLOYEES RATIO</td></tr></table>"
                    },
                    "metadata": {}
                }
            ],
            "execution_count": 12
        },
        {
            "cell_type": "code",
            "source": [
                "SELECT COUNT(ser.series_title)\n",
                "FROM LaborStatisticsDB.dbo.series AS ser\n",
                "WHERE ser.series_title LIKE 'women%'"
            ],
            "metadata": {
                "azdata_cell_guid": "7c98ada5-289c-4d77-84fb-1faa6d11322b",
                "language": "sql"
            },
            "outputs": [
                {
                    "output_type": "display_data",
                    "data": {
                        "text/html": "(1 row affected)"
                    },
                    "metadata": {}
                },
                {
                    "output_type": "display_data",
                    "data": {
                        "text/html": "Total execution time: 00:00:00.053"
                    },
                    "metadata": {}
                },
                {
                    "output_type": "execute_result",
                    "execution_count": 27,
                    "data": {
                        "application/vnd.dataresource+json": {
                            "schema": {
                                "fields": [
                                    {
                                        "name": "(No column name)"
                                    }
                                ]
                            },
                            "data": [
                                {
                                    "0": "1372"
                                }
                            ]
                        },
                        "text/html": "<table><tr><th>(No column name)</th></tr><tr><td>1372</td></tr></table>"
                    },
                    "metadata": {}
                }
            ],
            "execution_count": 27
        },
        {
            "cell_type": "markdown",
            "source": [
                "3. <span style=\"background-color: rgb(255, 255, 255); font-size: 10pt; white-space: pre-wrap; color: rgb(102, 102, 102); font-family: Arvo, serif;\">What is the series id for&nbsp; women employees in the commercial banking industry in the financial activities supersector?</span>"
            ],
            "metadata": {
                "azdata_cell_guid": "325f85cc-9545-47b3-b975-3aab6278e4ea"
            },
            "attachments": {}
        },
        {
            "cell_type": "code",
            "source": [
                "-- The series ID is either CE5552211010 or CEU55221101\n",
                "SELECT s.series_id, i.industry_name, ss.supersector_name, s.series_title\n",
                "FROM LaborStatisticsDB.dbo.series AS s \n",
                "JOIN LaborStatisticsDB.dbo.industry AS i \n",
                "ON s.industry_code = i.industry_code\n",
                "JOIN LaborStatisticsDB.dbo.supersector as ss \n",
                "ON s.supersector_code = ss.supersector_code\n",
                "WHERE s.series_title = 'women employees' AND i.industry_name = 'commercial banking' AND ss.supersector_name = 'financial activities'"
            ],
            "metadata": {
                "azdata_cell_guid": "52c8b15c-7dae-4dc4-8d0f-a31b3b7a2dcd",
                "language": "sql"
            },
            "outputs": [
                {
                    "output_type": "display_data",
                    "data": {
                        "text/html": "(2 rows affected)"
                    },
                    "metadata": {}
                },
                {
                    "output_type": "display_data",
                    "data": {
                        "text/html": "Total execution time: 00:00:00.047"
                    },
                    "metadata": {}
                },
                {
                    "output_type": "execute_result",
                    "execution_count": 13,
                    "data": {
                        "application/vnd.dataresource+json": {
                            "schema": {
                                "fields": [
                                    {
                                        "name": "series_id"
                                    },
                                    {
                                        "name": "industry_name"
                                    },
                                    {
                                        "name": "supersector_name"
                                    },
                                    {
                                        "name": "series_title"
                                    }
                                ]
                            },
                            "data": [
                                {
                                    "0": "CES5552211010",
                                    "1": "Commercial banking",
                                    "2": "Financial activities",
                                    "3": "Women employees"
                                },
                                {
                                    "0": "CEU5552211010",
                                    "1": "Commercial banking",
                                    "2": "Financial activities",
                                    "3": "Women employees"
                                }
                            ]
                        },
                        "text/html": "<table><tr><th>series_id</th><th>industry_name</th><th>supersector_name</th><th>series_title</th></tr><tr><td>CES5552211010</td><td>Commercial banking</td><td>Financial activities</td><td>Women employees</td></tr><tr><td>CEU5552211010</td><td>Commercial banking</td><td>Financial activities</td><td>Women employees</td></tr></table>"
                    },
                    "metadata": {}
                }
            ],
            "execution_count": 13
        },
        {
            "cell_type": "code",
            "source": [
                "SELECT *\n",
                "FROM LaborStatisticsDB.dbo.industry AS i\n",
                "WHERE i.industry_name = 'commercial banking'"
            ],
            "metadata": {
                "azdata_cell_guid": "5d4a300b-2376-4628-95e3-e63d0dd92fdb",
                "language": "sql"
            },
            "outputs": [
                {
                    "output_type": "display_data",
                    "data": {
                        "text/html": "(1 row affected)"
                    },
                    "metadata": {}
                },
                {
                    "output_type": "display_data",
                    "data": {
                        "text/html": "Total execution time: 00:00:00.035"
                    },
                    "metadata": {}
                },
                {
                    "output_type": "execute_result",
                    "execution_count": 5,
                    "data": {
                        "application/vnd.dataresource+json": {
                            "schema": {
                                "fields": [
                                    {
                                        "name": "id"
                                    },
                                    {
                                        "name": "industry_code"
                                    },
                                    {
                                        "name": "naics_code"
                                    },
                                    {
                                        "name": "publishing_status"
                                    },
                                    {
                                        "name": "industry_name"
                                    },
                                    {
                                        "name": "display_level"
                                    },
                                    {
                                        "name": "selectable"
                                    },
                                    {
                                        "name": "sort_sequence"
                                    }
                                ]
                            },
                            "data": [
                                {
                                    "0": "563",
                                    "1": "55522110",
                                    "2": "52211",
                                    "3": "A",
                                    "4": "Commercial banking",
                                    "5": "6",
                                    "6": "T",
                                    "7": "564"
                                }
                            ]
                        },
                        "text/html": "<table><tr><th>id</th><th>industry_code</th><th>naics_code</th><th>publishing_status</th><th>industry_name</th><th>display_level</th><th>selectable</th><th>sort_sequence</th></tr><tr><td>563</td><td>55522110</td><td>52211</td><td>A</td><td>Commercial banking</td><td>6</td><td>T</td><td>564</td></tr></table>"
                    },
                    "metadata": {}
                }
            ],
            "execution_count": 5
        },
        {
            "cell_type": "code",
            "source": [
                "SELECT *\n",
                "FROM LaborStatisticsDB.dbo.supersector AS ss \n",
                "WHERE ss.supersector_name = 'financial activities'"
            ],
            "metadata": {
                "azdata_cell_guid": "974d1750-3add-46b8-940b-d095467feacd",
                "language": "sql"
            },
            "outputs": [
                {
                    "output_type": "display_data",
                    "data": {
                        "text/html": "(1 row affected)"
                    },
                    "metadata": {}
                },
                {
                    "output_type": "display_data",
                    "data": {
                        "text/html": "Total execution time: 00:00:00.041"
                    },
                    "metadata": {}
                },
                {
                    "output_type": "execute_result",
                    "execution_count": 6,
                    "data": {
                        "application/vnd.dataresource+json": {
                            "schema": {
                                "fields": [
                                    {
                                        "name": "supersector_code"
                                    },
                                    {
                                        "name": "supersector_name"
                                    }
                                ]
                            },
                            "data": [
                                {
                                    "0": "55",
                                    "1": "Financial activities"
                                }
                            ]
                        },
                        "text/html": "<table><tr><th>supersector_code</th><th>supersector_name</th></tr><tr><td>55</td><td>Financial activities</td></tr></table>"
                    },
                    "metadata": {}
                }
            ],
            "execution_count": 6
        },
        {
            "cell_type": "code",
            "source": [
                "SELECT TOP 10 *\n",
                "FROM LaborStatisticsDB.dbo.series AS s\n",
                "WHERE s.series_title = 'women employees'"
            ],
            "metadata": {
                "azdata_cell_guid": "d0de21b9-8831-431b-a8e2-77536d0dc28b",
                "language": "sql"
            },
            "outputs": [
                {
                    "output_type": "display_data",
                    "data": {
                        "text/html": "(10 rows affected)"
                    },
                    "metadata": {}
                },
                {
                    "output_type": "display_data",
                    "data": {
                        "text/html": "Total execution time: 00:00:00.041"
                    },
                    "metadata": {}
                },
                {
                    "output_type": "execute_result",
                    "execution_count": 9,
                    "data": {
                        "application/vnd.dataresource+json": {
                            "schema": {
                                "fields": [
                                    {
                                        "name": "series_id"
                                    },
                                    {
                                        "name": "supersector_code"
                                    },
                                    {
                                        "name": "industry_code"
                                    },
                                    {
                                        "name": "data_type_code"
                                    },
                                    {
                                        "name": "seasonal"
                                    },
                                    {
                                        "name": "series_title"
                                    }
                                ]
                            },
                            "data": [
                                {
                                    "0": "CES0000000010",
                                    "1": "0",
                                    "2": "00000000",
                                    "3": "10",
                                    "4": "S",
                                    "5": "Women employees"
                                },
                                {
                                    "0": "CES0500000010",
                                    "1": "5",
                                    "2": "05000000",
                                    "3": "10",
                                    "4": "S",
                                    "5": "Women employees"
                                },
                                {
                                    "0": "CES0600000010",
                                    "1": "6",
                                    "2": "06000000",
                                    "3": "10",
                                    "4": "S",
                                    "5": "Women employees"
                                },
                                {
                                    "0": "CES0700000010",
                                    "1": "7",
                                    "2": "07000000",
                                    "3": "10",
                                    "4": "S",
                                    "5": "Women employees"
                                },
                                {
                                    "0": "CES0800000010",
                                    "1": "8",
                                    "2": "08000000",
                                    "3": "10",
                                    "4": "S",
                                    "5": "Women employees"
                                },
                                {
                                    "0": "CES1000000010",
                                    "1": "10",
                                    "2": "10000000",
                                    "3": "10",
                                    "4": "S",
                                    "5": "Women employees"
                                },
                                {
                                    "0": "CES1011330010",
                                    "1": "10",
                                    "2": "10113300",
                                    "3": "10",
                                    "4": "S",
                                    "5": "Women employees"
                                },
                                {
                                    "0": "CES1021000010",
                                    "1": "10",
                                    "2": "10210000",
                                    "3": "10",
                                    "4": "S",
                                    "5": "Women employees"
                                },
                                {
                                    "0": "CES1021100010",
                                    "1": "10",
                                    "2": "10211000",
                                    "3": "10",
                                    "4": "S",
                                    "5": "Women employees"
                                },
                                {
                                    "0": "CES1021200010",
                                    "1": "10",
                                    "2": "10212000",
                                    "3": "10",
                                    "4": "S",
                                    "5": "Women employees"
                                }
                            ]
                        },
                        "text/html": "<table><tr><th>series_id</th><th>supersector_code</th><th>industry_code</th><th>data_type_code</th><th>seasonal</th><th>series_title</th></tr><tr><td>CES0000000010</td><td>0</td><td>00000000</td><td>10</td><td>S</td><td>Women employees</td></tr><tr><td>CES0500000010</td><td>5</td><td>05000000</td><td>10</td><td>S</td><td>Women employees</td></tr><tr><td>CES0600000010</td><td>6</td><td>06000000</td><td>10</td><td>S</td><td>Women employees</td></tr><tr><td>CES0700000010</td><td>7</td><td>07000000</td><td>10</td><td>S</td><td>Women employees</td></tr><tr><td>CES0800000010</td><td>8</td><td>08000000</td><td>10</td><td>S</td><td>Women employees</td></tr><tr><td>CES1000000010</td><td>10</td><td>10000000</td><td>10</td><td>S</td><td>Women employees</td></tr><tr><td>CES1011330010</td><td>10</td><td>10113300</td><td>10</td><td>S</td><td>Women employees</td></tr><tr><td>CES1021000010</td><td>10</td><td>10210000</td><td>10</td><td>S</td><td>Women employees</td></tr><tr><td>CES1021100010</td><td>10</td><td>10211000</td><td>10</td><td>S</td><td>Women employees</td></tr><tr><td>CES1021200010</td><td>10</td><td>10212000</td><td>10</td><td>S</td><td>Women employees</td></tr></table>"
                    },
                    "metadata": {}
                }
            ],
            "execution_count": 9
        },
        {
            "cell_type": "markdown",
            "source": [
                "## <span style=\"font-size: 12pt; font-family: Montserrat, sans-serif; color: rgb(53, 74, 95); background-color: rgb(255, 255, 255); font-weight: 700; font-variant-numeric: normal; font-variant-east-asian: normal; vertical-align: baseline; white-space: pre-wrap;\">Join in on the Fun</span>\n",
                "\n",
                "<span style=\"font-size: 10pt; font-family: Arvo, serif; color: rgb(102, 102, 102); background-color: rgb(255, 255, 255); font-variant-numeric: normal; font-variant-east-asian: normal; vertical-align: baseline; white-space: pre-wrap;\">Time to start joining! You can choose the type of join you use, just make sure to make a&nbsp; note!</span>\n",
                "\n",
                "1. <span style=\"background-color: rgb(255, 255, 255); font-size: 10pt; white-space: pre-wrap; color: rgb(102, 102, 102); font-family: Arvo, serif;\">Join&nbsp; annual_2016 with series on series_id. We only want the data in the annual_2016 table to be included in the result.</span>"
            ],
            "metadata": {
                "azdata_cell_guid": "ec1dfc63-ad41-4349-8c26-1d326ace8c6c"
            },
            "attachments": {}
        },
        {
            "cell_type": "code",
            "source": [
                "SELECT TOP 10 *\n",
                "FROM LaborStatisticsDB.dbo.annual_2016 AS a\n",
                "LEFT JOIN LaborStatisticsDB.dbo.series AS s\n",
                "ON a.series_id = s.series_id"
            ],
            "metadata": {
                "azdata_cell_guid": "cf90f0b4-c482-4fbb-ac17-d2244881caab",
                "language": "sql",
                "tags": []
            },
            "outputs": [
                {
                    "output_type": "display_data",
                    "data": {
                        "text/html": "(10 rows affected)"
                    },
                    "metadata": {}
                },
                {
                    "output_type": "display_data",
                    "data": {
                        "text/html": "Total execution time: 00:00:00.169"
                    },
                    "metadata": {}
                },
                {
                    "output_type": "execute_result",
                    "execution_count": 19,
                    "data": {
                        "application/vnd.dataresource+json": {
                            "schema": {
                                "fields": [
                                    {
                                        "name": "id"
                                    },
                                    {
                                        "name": "series_id"
                                    },
                                    {
                                        "name": "year"
                                    },
                                    {
                                        "name": "period"
                                    },
                                    {
                                        "name": "value"
                                    },
                                    {
                                        "name": "footnote_codes"
                                    },
                                    {
                                        "name": "original_file"
                                    },
                                    {
                                        "name": "series_id"
                                    },
                                    {
                                        "name": "supersector_code"
                                    },
                                    {
                                        "name": "industry_code"
                                    },
                                    {
                                        "name": "data_type_code"
                                    },
                                    {
                                        "name": "seasonal"
                                    },
                                    {
                                        "name": "series_title"
                                    }
                                ]
                            },
                            "data": [
                                {
                                    "0": "0",
                                    "1": "CEU5500000007",
                                    "2": "2016",
                                    "3": "M13",
                                    "4": "36.9",
                                    "5": "NULL",
                                    "6": "ce.data.55c.FinancialActivities.ProductionEmployeeHoursAndEarnings.csv",
                                    "7": "CEU5500000007",
                                    "8": "55",
                                    "9": "55000000",
                                    "10": "7",
                                    "11": "U",
                                    "12": "Average weekly hours of production and nonsupervisory employees"
                                },
                                {
                                    "0": "1",
                                    "1": "CEU5500000008",
                                    "2": "2016",
                                    "3": "M13",
                                    "4": "26.11",
                                    "5": "NULL",
                                    "6": "ce.data.55c.FinancialActivities.ProductionEmployeeHoursAndEarnings.csv",
                                    "7": "CEU5500000008",
                                    "8": "55",
                                    "9": "55000000",
                                    "10": "8",
                                    "11": "U",
                                    "12": "Average hourly earnings of production and nonsupervisory employees"
                                },
                                {
                                    "0": "2",
                                    "1": "CEU5500000030",
                                    "2": "2016",
                                    "3": "M13",
                                    "4": "962.73",
                                    "5": "NULL",
                                    "6": "ce.data.55c.FinancialActivities.ProductionEmployeeHoursAndEarnings.csv",
                                    "7": "CEU5500000030",
                                    "8": "55",
                                    "9": "55000000",
                                    "10": "30",
                                    "11": "U",
                                    "12": "Average weekly earnings of production and nonsupervisory employees"
                                },
                                {
                                    "0": "3",
                                    "1": "CEU5500000031",
                                    "2": "2016",
                                    "3": "M13",
                                    "4": "411.29",
                                    "5": "NULL",
                                    "6": "ce.data.55c.FinancialActivities.ProductionEmployeeHoursAndEarnings.csv",
                                    "7": "CEU5500000031",
                                    "8": "55",
                                    "9": "55000000",
                                    "10": "31",
                                    "11": "U",
                                    "12": "Average weekly earnings of production and nonsupervisory employees"
                                },
                                {
                                    "0": "4",
                                    "1": "CEU5500000032",
                                    "2": "2016",
                                    "3": "M13",
                                    "4": "11.15",
                                    "5": "NULL",
                                    "6": "ce.data.55c.FinancialActivities.ProductionEmployeeHoursAndEarnings.csv",
                                    "7": "CEU5500000032",
                                    "8": "55",
                                    "9": "55000000",
                                    "10": "32",
                                    "11": "U",
                                    "12": "Average hourly earnings of production and nonsupervisory employees"
                                },
                                {
                                    "0": "5",
                                    "1": "CEU5500000034",
                                    "2": "2016",
                                    "3": "M13",
                                    "4": "111.6",
                                    "5": "NULL",
                                    "6": "ce.data.55c.FinancialActivities.ProductionEmployeeHoursAndEarnings.csv",
                                    "7": "CEU5500000034",
                                    "8": "55",
                                    "9": "55000000",
                                    "10": "34",
                                    "11": "U",
                                    "12": "Indexes of aggregate weekly hours of production and nonsupervisory employees"
                                },
                                {
                                    "0": "6",
                                    "1": "CEU5500000035",
                                    "2": "2016",
                                    "3": "M13",
                                    "4": "179.2",
                                    "5": "NULL",
                                    "6": "ce.data.55c.FinancialActivities.ProductionEmployeeHoursAndEarnings.csv",
                                    "7": "CEU5500000035",
                                    "8": "55",
                                    "9": "55000000",
                                    "10": "35",
                                    "11": "U",
                                    "12": "Indexes of aggregate weekly payrolls of production and nonsupervisory employees"
                                },
                                {
                                    "0": "7",
                                    "1": "CEU5500000081",
                                    "2": "2016",
                                    "3": "M13",
                                    "4": "236997",
                                    "5": "NULL",
                                    "6": "ce.data.55c.FinancialActivities.ProductionEmployeeHoursAndEarnings.csv",
                                    "7": "CEU5500000081",
                                    "8": "55",
                                    "9": "55000000",
                                    "10": "81",
                                    "11": "U",
                                    "12": "Aggregate weekly hours of production and nonsupervisory employees"
                                },
                                {
                                    "0": "8",
                                    "1": "CEU5500000082",
                                    "2": "2016",
                                    "3": "M13",
                                    "4": "6189003",
                                    "5": "NULL",
                                    "6": "ce.data.55c.FinancialActivities.ProductionEmployeeHoursAndEarnings.csv",
                                    "7": "CEU5500000082",
                                    "8": "55",
                                    "9": "55000000",
                                    "10": "82",
                                    "11": "U",
                                    "12": "Aggregate weekly payrolls of production and nonsupervisory employees"
                                },
                                {
                                    "0": "9",
                                    "1": "CEU5552200007",
                                    "2": "2016",
                                    "3": "M13",
                                    "4": "37.3",
                                    "5": "NULL",
                                    "6": "ce.data.55c.FinancialActivities.ProductionEmployeeHoursAndEarnings.csv",
                                    "7": "CEU5552200007",
                                    "8": "55",
                                    "9": "55522000",
                                    "10": "7",
                                    "11": "U",
                                    "12": "Average weekly hours of production and nonsupervisory employees"
                                }
                            ]
                        },
                        "text/html": "<table><tr><th>id</th><th>series_id</th><th>year</th><th>period</th><th>value</th><th>footnote_codes</th><th>original_file</th><th>series_id</th><th>supersector_code</th><th>industry_code</th><th>data_type_code</th><th>seasonal</th><th>series_title</th></tr><tr><td>0</td><td>CEU5500000007</td><td>2016</td><td>M13</td><td>36.9</td><td>NULL</td><td>ce.data.55c.FinancialActivities.ProductionEmployeeHoursAndEarnings.csv</td><td>CEU5500000007</td><td>55</td><td>55000000</td><td>7</td><td>U</td><td>Average weekly hours of production and nonsupervisory employees</td></tr><tr><td>1</td><td>CEU5500000008</td><td>2016</td><td>M13</td><td>26.11</td><td>NULL</td><td>ce.data.55c.FinancialActivities.ProductionEmployeeHoursAndEarnings.csv</td><td>CEU5500000008</td><td>55</td><td>55000000</td><td>8</td><td>U</td><td>Average hourly earnings of production and nonsupervisory employees</td></tr><tr><td>2</td><td>CEU5500000030</td><td>2016</td><td>M13</td><td>962.73</td><td>NULL</td><td>ce.data.55c.FinancialActivities.ProductionEmployeeHoursAndEarnings.csv</td><td>CEU5500000030</td><td>55</td><td>55000000</td><td>30</td><td>U</td><td>Average weekly earnings of production and nonsupervisory employees</td></tr><tr><td>3</td><td>CEU5500000031</td><td>2016</td><td>M13</td><td>411.29</td><td>NULL</td><td>ce.data.55c.FinancialActivities.ProductionEmployeeHoursAndEarnings.csv</td><td>CEU5500000031</td><td>55</td><td>55000000</td><td>31</td><td>U</td><td>Average weekly earnings of production and nonsupervisory employees</td></tr><tr><td>4</td><td>CEU5500000032</td><td>2016</td><td>M13</td><td>11.15</td><td>NULL</td><td>ce.data.55c.FinancialActivities.ProductionEmployeeHoursAndEarnings.csv</td><td>CEU5500000032</td><td>55</td><td>55000000</td><td>32</td><td>U</td><td>Average hourly earnings of production and nonsupervisory employees</td></tr><tr><td>5</td><td>CEU5500000034</td><td>2016</td><td>M13</td><td>111.6</td><td>NULL</td><td>ce.data.55c.FinancialActivities.ProductionEmployeeHoursAndEarnings.csv</td><td>CEU5500000034</td><td>55</td><td>55000000</td><td>34</td><td>U</td><td>Indexes of aggregate weekly hours of production and nonsupervisory employees</td></tr><tr><td>6</td><td>CEU5500000035</td><td>2016</td><td>M13</td><td>179.2</td><td>NULL</td><td>ce.data.55c.FinancialActivities.ProductionEmployeeHoursAndEarnings.csv</td><td>CEU5500000035</td><td>55</td><td>55000000</td><td>35</td><td>U</td><td>Indexes of aggregate weekly payrolls of production and nonsupervisory employees</td></tr><tr><td>7</td><td>CEU5500000081</td><td>2016</td><td>M13</td><td>236997</td><td>NULL</td><td>ce.data.55c.FinancialActivities.ProductionEmployeeHoursAndEarnings.csv</td><td>CEU5500000081</td><td>55</td><td>55000000</td><td>81</td><td>U</td><td>Aggregate weekly hours of production and nonsupervisory employees</td></tr><tr><td>8</td><td>CEU5500000082</td><td>2016</td><td>M13</td><td>6189003</td><td>NULL</td><td>ce.data.55c.FinancialActivities.ProductionEmployeeHoursAndEarnings.csv</td><td>CEU5500000082</td><td>55</td><td>55000000</td><td>82</td><td>U</td><td>Aggregate weekly payrolls of production and nonsupervisory employees</td></tr><tr><td>9</td><td>CEU5552200007</td><td>2016</td><td>M13</td><td>37.3</td><td>NULL</td><td>ce.data.55c.FinancialActivities.ProductionEmployeeHoursAndEarnings.csv</td><td>CEU5552200007</td><td>55</td><td>55522000</td><td>7</td><td>U</td><td>Average weekly hours of production and nonsupervisory employees</td></tr></table>"
                    },
                    "metadata": {}
                }
            ],
            "execution_count": 19
        },
        {
            "cell_type": "markdown",
            "source": [
                "2. <span style=\"background-color: rgb(255, 255, 255); font-size: 10pt; white-space: pre-wrap; color: rgb(102, 102, 102); font-family: Arvo, serif;\">Join series and datatype on data_type_code</span>"
            ],
            "metadata": {
                "azdata_cell_guid": "710b59ae-224b-4f9d-b1a4-4a6b89048bbb"
            },
            "attachments": {}
        },
        {
            "cell_type": "code",
            "source": [
                "SELECT TOP 10 s.data_type_code\n",
                "FROM LaborStatisticsDB.dbo.series AS s\n",
                "INNER JOIN LaborStatisticsDB.dbo.datatype AS dt\n",
                "ON s.data_type_code = dt.data_type_code"
            ],
            "metadata": {
                "azdata_cell_guid": "fca61371-c9b5-4823-a4b4-34c1279ece3e",
                "language": "sql"
            },
            "outputs": [
                {
                    "output_type": "display_data",
                    "data": {
                        "text/html": "(10 rows affected)"
                    },
                    "metadata": {}
                },
                {
                    "output_type": "display_data",
                    "data": {
                        "text/html": "Total execution time: 00:00:00.038"
                    },
                    "metadata": {}
                },
                {
                    "output_type": "execute_result",
                    "execution_count": 7,
                    "data": {
                        "application/vnd.dataresource+json": {
                            "schema": {
                                "fields": [
                                    {
                                        "name": "data_type_code"
                                    }
                                ]
                            },
                            "data": [
                                {
                                    "0": "1"
                                },
                                {
                                    "0": "10"
                                },
                                {
                                    "0": "25"
                                },
                                {
                                    "0": "26"
                                },
                                {
                                    "0": "1"
                                },
                                {
                                    "0": "2"
                                },
                                {
                                    "0": "3"
                                },
                                {
                                    "0": "6"
                                },
                                {
                                    "0": "7"
                                },
                                {
                                    "0": "8"
                                }
                            ]
                        },
                        "text/html": "<table><tr><th>data_type_code</th></tr><tr><td>1</td></tr><tr><td>10</td></tr><tr><td>25</td></tr><tr><td>26</td></tr><tr><td>1</td></tr><tr><td>2</td></tr><tr><td>3</td></tr><tr><td>6</td></tr><tr><td>7</td></tr><tr><td>8</td></tr></table>"
                    },
                    "metadata": {}
                }
            ],
            "execution_count": 7
        },
        {
            "cell_type": "markdown",
            "source": [
                "3. <span style=\"background-color: rgb(255, 255, 255); font-size: 10pt; white-space: pre-wrap; color: rgb(102, 102, 102); font-family: Arvo, serif;\">Join series and industry on industry_code</span>"
            ],
            "metadata": {
                "azdata_cell_guid": "78ac8ba4-2a6a-426f-af30-6b56d9d09054"
            },
            "attachments": {}
        },
        {
            "cell_type": "code",
            "source": [
                "SELECT TOP 10 s.industry_code\n",
                "FROM LaborStatisticsDB.dbo.series AS s\n",
                "LEFT JOIN LaborStatisticsDB.dbo.industry AS i\n",
                "ON s.industry_code = i.industry_code"
            ],
            "metadata": {
                "azdata_cell_guid": "ac022766-e280-4d95-8362-1f2b18773662",
                "language": "sql"
            },
            "outputs": [
                {
                    "output_type": "display_data",
                    "data": {
                        "text/html": "(10 rows affected)"
                    },
                    "metadata": {}
                },
                {
                    "output_type": "display_data",
                    "data": {
                        "text/html": "Total execution time: 00:00:00.044"
                    },
                    "metadata": {}
                },
                {
                    "output_type": "execute_result",
                    "execution_count": 9,
                    "data": {
                        "application/vnd.dataresource+json": {
                            "schema": {
                                "fields": [
                                    {
                                        "name": "industry_code"
                                    }
                                ]
                            },
                            "data": [
                                {
                                    "0": "00000000"
                                },
                                {
                                    "0": "00000000"
                                },
                                {
                                    "0": "00000000"
                                },
                                {
                                    "0": "00000000"
                                },
                                {
                                    "0": "05000000"
                                },
                                {
                                    "0": "05000000"
                                },
                                {
                                    "0": "05000000"
                                },
                                {
                                    "0": "05000000"
                                },
                                {
                                    "0": "05000000"
                                },
                                {
                                    "0": "05000000"
                                }
                            ]
                        },
                        "text/html": "<table><tr><th>industry_code</th></tr><tr><td>00000000</td></tr><tr><td>00000000</td></tr><tr><td>00000000</td></tr><tr><td>00000000</td></tr><tr><td>05000000</td></tr><tr><td>05000000</td></tr><tr><td>05000000</td></tr><tr><td>05000000</td></tr><tr><td>05000000</td></tr><tr><td>05000000</td></tr></table>"
                    },
                    "metadata": {}
                }
            ],
            "execution_count": 9
        },
        {
            "cell_type": "markdown",
            "source": [
                "## <span style=\"font-size: 12pt; font-family: Montserrat, sans-serif; color: rgb(53, 74, 95); background-color: rgb(255, 255, 255); font-weight: 700; font-variant-numeric: normal; font-variant-east-asian: normal; vertical-align: baseline; white-space: pre-wrap;\">Aggregate Your Friends and Code some SQL</span>\n",
                "\n",
                "<span style=\"font-size: 10pt; font-family: Arvo, serif; color: rgb(102, 102, 102); background-color: rgb(255, 255, 255); font-variant-numeric: normal; font-variant-east-asian: normal; vertical-align: baseline; white-space: pre-wrap;\">Put together the following:</span>\n",
                "\n",
                "1. <span style=\"background-color: rgb(255, 255, 255); font-size: 10pt; white-space: pre-wrap; color: rgb(102, 102, 102); font-family: Arvo, serif;\">How many employees were reported in 2016 in all industries? Round to the nearest whole number.&nbsp; No chopping people into little bits, please.</span>"
            ],
            "metadata": {
                "azdata_cell_guid": "f4290cc1-f824-4586-8850-59d926bf4460"
            },
            "attachments": {}
        },
        {
            "cell_type": "code",
            "source": [
                "-- old solution\n",
                "SELECT COUNT (*) AS \"Number of Employees in 2016\"\n",
                "FROM LaborStatisticsDB.dbo.annual_2016 AS a\n",
                ""
            ],
            "metadata": {
                "azdata_cell_guid": "5baf1310-d5e5-4040-aad0-9863fc568313",
                "language": "sql"
            },
            "outputs": [
                {
                    "output_type": "display_data",
                    "data": {
                        "text/html": "(1 row affected)"
                    },
                    "metadata": {}
                },
                {
                    "output_type": "display_data",
                    "data": {
                        "text/html": "Total execution time: 00:00:00.050"
                    },
                    "metadata": {}
                },
                {
                    "output_type": "execute_result",
                    "execution_count": 32,
                    "data": {
                        "application/vnd.dataresource+json": {
                            "schema": {
                                "fields": [
                                    {
                                        "name": "Number of Employees in 2016"
                                    }
                                ]
                            },
                            "data": [
                                {
                                    "0": "29042"
                                }
                            ]
                        },
                        "text/html": "<table><tr><th>Number of Employees in 2016</th></tr><tr><td>29042</td></tr></table>"
                    },
                    "metadata": {}
                }
            ],
            "execution_count": 32
        },
        {
            "cell_type": "code",
            "source": [
                "-- new solution\n",
                "SELECT ROUND(SUM(a.value),0) AS \"Number of Employees in 2016\"\n",
                "FROM LaborStatisticsDB.dbo.annual_2016 AS a"
            ],
            "metadata": {
                "azdata_cell_guid": "debaae35-e19e-4783-af9f-f6f60934a2d5",
                "language": "sql",
                "tags": []
            },
            "outputs": [
                {
                    "output_type": "display_data",
                    "data": {
                        "text/html": "(1 row affected)"
                    },
                    "metadata": {}
                },
                {
                    "output_type": "display_data",
                    "data": {
                        "text/html": "Total execution time: 00:00:00.044"
                    },
                    "metadata": {}
                },
                {
                    "output_type": "execute_result",
                    "metadata": {},
                    "execution_count": 4,
                    "data": {
                        "application/vnd.dataresource+json": {
                            "schema": {
                                "fields": [
                                    {
                                        "name": "Number of Employees in 2016"
                                    }
                                ]
                            },
                            "data": [
                                {
                                    "0": "2351408916"
                                }
                            ]
                        },
                        "text/html": [
                            "<table>",
                            "<tr><th>Number of Employees in 2016</th></tr>",
                            "<tr><td>2351408916</td></tr>",
                            "</table>"
                        ]
                    }
                }
            ],
            "execution_count": 4
        },
        {
            "cell_type": "markdown",
            "source": [
                "2. <span style=\"background-color: rgb(255, 255, 255); font-size: 10pt; white-space: pre-wrap; color: rgb(102, 102, 102); font-family: Arvo, serif;\">How many women employees were reported in 2016 in all industries? Round to the nearest whole number.&nbsp;</span>"
            ],
            "metadata": {
                "azdata_cell_guid": "6358fab4-b933-4646-bef1-4be66dcd4317"
            },
            "attachments": {}
        },
        {
            "cell_type": "code",
            "source": [
                "-- step 1\n",
                "SELECT TOP 10 a.series_id, s.series_title\n",
                "FROM LaborStatisticsDB.dbo.annual_2016 AS a\n",
                "LEFT JOIN LaborStatisticsDB.dbo.series AS s\n",
                "ON a.series_id = s.series_id\n",
                "WHERE s.series_title LIKE 'women employee%'"
            ],
            "metadata": {
                "azdata_cell_guid": "7bb0bfb7-b9e3-4672-b354-7ca705bb0c3b",
                "language": "sql",
                "tags": []
            },
            "outputs": [
                {
                    "output_type": "display_data",
                    "data": {
                        "text/html": "(10 rows affected)"
                    },
                    "metadata": {}
                },
                {
                    "output_type": "display_data",
                    "data": {
                        "text/html": "Total execution time: 00:00:00.051"
                    },
                    "metadata": {}
                },
                {
                    "output_type": "execute_result",
                    "execution_count": 75,
                    "data": {
                        "application/vnd.dataresource+json": {
                            "schema": {
                                "fields": [
                                    {
                                        "name": "series_id"
                                    },
                                    {
                                        "name": "series_title"
                                    }
                                ]
                            },
                            "data": [
                                {
                                    "0": "CEU5000000010",
                                    "1": "Women employees"
                                },
                                {
                                    "0": "CEU5051100010",
                                    "1": "Women employees"
                                },
                                {
                                    "0": "CEU5051110010",
                                    "1": "Women employees"
                                },
                                {
                                    "0": "CEU5051111010",
                                    "1": "Women employees"
                                },
                                {
                                    "0": "CEU5051112010",
                                    "1": "Women employees"
                                },
                                {
                                    "0": "CEU5051113010",
                                    "1": "Women employees"
                                },
                                {
                                    "0": "CEU5051120010",
                                    "1": "Women employees"
                                },
                                {
                                    "0": "CEU5051200010",
                                    "1": "Women employees"
                                },
                                {
                                    "0": "CEU5051500010",
                                    "1": "Women employees"
                                },
                                {
                                    "0": "CEU5051511010",
                                    "1": "Women employees"
                                }
                            ]
                        },
                        "text/html": "<table><tr><th>series_id</th><th>series_title</th></tr><tr><td>CEU5000000010</td><td>Women employees</td></tr><tr><td>CEU5051100010</td><td>Women employees</td></tr><tr><td>CEU5051110010</td><td>Women employees</td></tr><tr><td>CEU5051111010</td><td>Women employees</td></tr><tr><td>CEU5051112010</td><td>Women employees</td></tr><tr><td>CEU5051113010</td><td>Women employees</td></tr><tr><td>CEU5051120010</td><td>Women employees</td></tr><tr><td>CEU5051200010</td><td>Women employees</td></tr><tr><td>CEU5051500010</td><td>Women employees</td></tr><tr><td>CEU5051511010</td><td>Women employees</td></tr></table>"
                    },
                    "metadata": {}
                }
            ],
            "execution_count": 75
        },
        {
            "cell_type": "code",
            "source": [
                "-- FINAL ANSWER --> 1372 women employees in 2016\n",
                "SELECT COUNT(a.series_id) AS \"Number of women employees in 2016\"\n",
                "FROM LaborStatisticsDB.dbo.annual_2016 AS a\n",
                "LEFT JOIN LaborStatisticsDB.dbo.series AS s\n",
                "ON a.series_id = s.series_id\n",
                "WHERE s.series_title LIKE 'women employee%'"
            ],
            "metadata": {
                "azdata_cell_guid": "1817da48-e153-4683-a547-2f942afe9a97",
                "language": "sql",
                "tags": []
            },
            "outputs": [
                {
                    "output_type": "display_data",
                    "data": {
                        "text/html": "(1 row affected)"
                    },
                    "metadata": {}
                },
                {
                    "output_type": "display_data",
                    "data": {
                        "text/html": "Total execution time: 00:00:00.058"
                    },
                    "metadata": {}
                },
                {
                    "output_type": "execute_result",
                    "execution_count": 64,
                    "data": {
                        "application/vnd.dataresource+json": {
                            "schema": {
                                "fields": [
                                    {
                                        "name": "Number of women employees in 2016"
                                    }
                                ]
                            },
                            "data": [
                                {
                                    "0": "1372"
                                }
                            ]
                        },
                        "text/html": "<table><tr><th>Number of women employees in 2016</th></tr><tr><td>1372</td></tr></table>"
                    },
                    "metadata": {}
                }
            ],
            "execution_count": 64
        },
        {
            "cell_type": "code",
            "source": [
                "SELECT ROUND(SUM(a.series_id),0) AS \"Number of women employees in 2016\"\n",
                "FROM LaborStatisticsDB.dbo.annual_2016 AS a\n",
                "LEFT JOIN LaborStatisticsDB.dbo.series AS s\n",
                "ON a.series_id = s.series_id\n",
                "WHERE s.series_title LIKE 'women employee%'"
            ],
            "metadata": {
                "azdata_cell_guid": "ee75cde4-590a-4644-bb12-5f381ae94c62",
                "language": "sql"
            },
            "outputs": [
                {
                    "output_type": "error",
                    "evalue": "Msg 8117, Level 16, State 1, Line 1\nOperand data type nvarchar is invalid for sum operator.",
                    "ename": "",
                    "traceback": []
                },
                {
                    "output_type": "display_data",
                    "data": {
                        "text/html": "Total execution time: 00:00:00.038"
                    },
                    "metadata": {}
                }
            ],
            "execution_count": 7
        },
        {
            "cell_type": "code",
            "source": [
                "-- new solution\n",
                "SELECT ROUND(SUM(a.value),0) AS \"Number of Employees in 2016\"\n",
                "FROM LaborStatisticsDB.dbo.annual_2016 AS a\n",
                "LEFT JOIN LaborStatisticsDB.dbo.series AS s\n",
                "ON a.series_id = s.series_id\n",
                "WHERE s.series_title LIKE 'women employee%'"
            ],
            "metadata": {
                "azdata_cell_guid": "f0e3886e-cb8a-475b-9dea-ca2b2e997530",
                "language": "sql"
            },
            "outputs": [
                {
                    "output_type": "display_data",
                    "data": {
                        "text/html": "(1 row affected)"
                    },
                    "metadata": {}
                },
                {
                    "output_type": "display_data",
                    "data": {
                        "text/html": "Total execution time: 00:00:00.062"
                    },
                    "metadata": {}
                },
                {
                    "output_type": "execute_result",
                    "metadata": {},
                    "execution_count": 10,
                    "data": {
                        "application/vnd.dataresource+json": {
                            "schema": {
                                "fields": [
                                    {
                                        "name": "Number of Employees in 2016"
                                    }
                                ]
                            },
                            "data": [
                                {
                                    "0": "1125490"
                                }
                            ]
                        },
                        "text/html": [
                            "<table>",
                            "<tr><th>Number of Employees in 2016</th></tr>",
                            "<tr><td>1125490</td></tr>",
                            "</table>"
                        ]
                    }
                }
            ],
            "execution_count": 10
        },
        {
            "cell_type": "markdown",
            "source": [
                "3. <span style=\"background-color: rgb(255, 255, 255); font-size: 10pt; white-space: pre-wrap; color: rgb(102, 102, 102); font-family: Arvo, serif;\">How many production/nonsupervisory employees were reported in 2016? Round to the nearest whole number.&nbsp;</span>"
            ],
            "metadata": {
                "azdata_cell_guid": "246ea683-2075-4337-878d-fbfdd49b2dd7"
            },
            "attachments": {}
        },
        {
            "cell_type": "code",
            "source": [
                "-- step 1... checking all titles to see if exact word match\n",
                "SELECT DISTINCT (s.series_title)\n",
                "FROM LaborStatisticsDB.dbo.series AS s"
            ],
            "metadata": {
                "azdata_cell_guid": "9f03887e-0a42-4c1e-8e76-ac3276e74920",
                "language": "sql"
            },
            "outputs": [
                {
                    "output_type": "display_data",
                    "data": {
                        "text/html": "(24 rows affected)"
                    },
                    "metadata": {}
                },
                {
                    "output_type": "display_data",
                    "data": {
                        "text/html": "Total execution time: 00:00:00.054"
                    },
                    "metadata": {}
                },
                {
                    "output_type": "execute_result",
                    "execution_count": 77,
                    "data": {
                        "application/vnd.dataresource+json": {
                            "schema": {
                                "fields": [
                                    {
                                        "name": "series_title"
                                    }
                                ]
                            },
                            "data": [
                                {
                                    "0": "Average hourly earnings of all employees"
                                },
                                {
                                    "0": "Average weekly hours of all employees"
                                },
                                {
                                    "0": "Average weekly overtime hours of production and nonsupervisory employees"
                                },
                                {
                                    "0": "Average weekly hours"
                                },
                                {
                                    "0": "Average weekly earnings of all employees"
                                },
                                {
                                    "0": "Average weekly overtime hours"
                                },
                                {
                                    "0": "Indexes of aggregate weekly payrolls of production and nonsupervisory employees"
                                },
                                {
                                    "0": "Women employees"
                                },
                                {
                                    "0": "Average weekly overtime hours of all employees"
                                },
                                {
                                    "0": "Average hourly earnings of production and nonsupervisory employees"
                                },
                                {
                                    "0": "Aggregate weekly hours of all employees"
                                },
                                {
                                    "0": "Indexes of aggregate weekly payrolls of all employees"
                                },
                                {
                                    "0": "Aggregate weekly payrolls of production and nonsupervisory employees"
                                },
                                {
                                    "0": "Diffusion indexes"
                                },
                                {
                                    "0": "Average weekly earnings of production and nonsupervisory employees"
                                },
                                {
                                    "0": "Indexes of aggregate weekly hours of all employees"
                                },
                                {
                                    "0": "Indexes of aggregate weekly hours of production and nonsupervisory employees"
                                },
                                {
                                    "0": "All employees"
                                },
                                {
                                    "0": "Aggregate weekly overtime hours of production and nonsupervisory employees"
                                },
                                {
                                    "0": "Aggregate weekly payrolls of all employees"
                                },
                                {
                                    "0": "Average weekly hours of production and nonsupervisory employees"
                                },
                                {
                                    "0": "Production and nonsupervisory employees"
                                },
                                {
                                    "0": "Aggregate weekly hours of production and nonsupervisory employees"
                                },
                                {
                                    "0": "Aggregate weekly overtime hours of all employees"
                                }
                            ]
                        },
                        "text/html": "<table><tr><th>series_title</th></tr><tr><td>Average hourly earnings of all employees</td></tr><tr><td>Average weekly hours of all employees</td></tr><tr><td>Average weekly overtime hours of production and nonsupervisory employees</td></tr><tr><td>Average weekly hours</td></tr><tr><td>Average weekly earnings of all employees</td></tr><tr><td>Average weekly overtime hours</td></tr><tr><td>Indexes of aggregate weekly payrolls of production and nonsupervisory employees</td></tr><tr><td>Women employees</td></tr><tr><td>Average weekly overtime hours of all employees</td></tr><tr><td>Average hourly earnings of production and nonsupervisory employees</td></tr><tr><td>Aggregate weekly hours of all employees</td></tr><tr><td>Indexes of aggregate weekly payrolls of all employees</td></tr><tr><td>Aggregate weekly payrolls of production and nonsupervisory employees</td></tr><tr><td>Diffusion indexes</td></tr><tr><td>Average weekly earnings of production and nonsupervisory employees</td></tr><tr><td>Indexes of aggregate weekly hours of all employees</td></tr><tr><td>Indexes of aggregate weekly hours of production and nonsupervisory employees</td></tr><tr><td>All employees</td></tr><tr><td>Aggregate weekly overtime hours of production and nonsupervisory employees</td></tr><tr><td>Aggregate weekly payrolls of all employees</td></tr><tr><td>Average weekly hours of production and nonsupervisory employees</td></tr><tr><td>Production and nonsupervisory employees</td></tr><tr><td>Aggregate weekly hours of production and nonsupervisory employees</td></tr><tr><td>Aggregate weekly overtime hours of all employees</td></tr></table>"
                    },
                    "metadata": {}
                }
            ],
            "execution_count": 77
        },
        {
            "cell_type": "code",
            "source": [
                "-- step 2...# total\n",
                "SELECT COUNT(s.series_title) AS \"Number of Production and nonsupervisory employees\"\n",
                "FROM LaborStatisticsDB.dbo.series AS s\n",
                "WHERE s.series_title = 'Production and nonsupervisory employees'"
            ],
            "metadata": {
                "azdata_cell_guid": "963e320a-f772-457d-b22e-30efcf4f1007",
                "language": "sql"
            },
            "outputs": [
                {
                    "output_type": "display_data",
                    "data": {
                        "text/html": "(1 row affected)"
                    },
                    "metadata": {}
                },
                {
                    "output_type": "display_data",
                    "data": {
                        "text/html": "Total execution time: 00:00:00.042"
                    },
                    "metadata": {}
                },
                {
                    "output_type": "execute_result",
                    "execution_count": 78,
                    "data": {
                        "application/vnd.dataresource+json": {
                            "schema": {
                                "fields": [
                                    {
                                        "name": "Number of Production and nonsupervisory employees"
                                    }
                                ]
                            },
                            "data": [
                                {
                                    "0": "1102"
                                }
                            ]
                        },
                        "text/html": "<table><tr><th>Number of Production and nonsupervisory employees</th></tr><tr><td>1102</td></tr></table>"
                    },
                    "metadata": {}
                }
            ],
            "execution_count": 78
        },
        {
            "cell_type": "code",
            "source": [
                "-- FINAL ANSWER --> 1102...but they shouldnt be the same?\n",
                "SELECT COUNT(a.series_id) AS \"Number of 'prod/nonsup employees in 2016' \"\n",
                "FROM LaborStatisticsDB.dbo.annual_2016 AS a\n",
                "LEFT JOIN LaborStatisticsDB.dbo.series AS s\n",
                "ON a.series_id = s.series_id\n",
                "WHERE s.series_title LIKE 'production and nonsupervisory employees%'"
            ],
            "metadata": {
                "azdata_cell_guid": "110f2591-069b-4bbe-87c7-2bcf76c3d36f",
                "language": "sql"
            },
            "outputs": [
                {
                    "output_type": "display_data",
                    "data": {
                        "text/html": "(1 row affected)"
                    },
                    "metadata": {}
                },
                {
                    "output_type": "display_data",
                    "data": {
                        "text/html": "Total execution time: 00:00:00.054"
                    },
                    "metadata": {}
                },
                {
                    "output_type": "execute_result",
                    "execution_count": 82,
                    "data": {
                        "application/vnd.dataresource+json": {
                            "schema": {
                                "fields": [
                                    {
                                        "name": "Number of 'prod/nonsup employees in 2016' "
                                    }
                                ]
                            },
                            "data": [
                                {
                                    "0": "1102"
                                }
                            ]
                        },
                        "text/html": "<table><tr><th>Number of 'prod/nonsup employees in 2016' </th></tr><tr><td>1102</td></tr></table>"
                    },
                    "metadata": {}
                }
            ],
            "execution_count": 82
        },
        {
            "cell_type": "code",
            "source": [
                "SELECT SUM(a.series_id) AS \"Number of 'prod/nonsup employees in 2016' \"\n",
                "FROM LaborStatisticsDB.dbo.annual_2016 AS a\n",
                "LEFT JOIN LaborStatisticsDB.dbo.series AS s\n",
                "ON a.series_id = s.series_id\n",
                "WHERE s.series_title LIKE 'production and nonsupervisory employees%'"
            ],
            "metadata": {
                "azdata_cell_guid": "9a9bbf76-fcb2-4a18-bded-32891c452b8e",
                "language": "sql"
            },
            "outputs": [
                {
                    "output_type": "error",
                    "evalue": "Msg 8117, Level 16, State 1, Line 1\nOperand data type nvarchar is invalid for sum operator.",
                    "ename": "",
                    "traceback": []
                },
                {
                    "output_type": "display_data",
                    "data": {
                        "text/html": "Total execution time: 00:00:00.035"
                    },
                    "metadata": {}
                }
            ],
            "execution_count": 8
        },
        {
            "cell_type": "code",
            "source": [
                "-- new solution\n",
                "SELECT ROUND(SUM(a.value),0) AS \"Number of Employees in 2016\"\n",
                "FROM LaborStatisticsDB.dbo.annual_2016 AS a\n",
                "LEFT JOIN LaborStatisticsDB.dbo.series AS s\n",
                "ON a.series_id = s.series_id\n",
                "WHERE s.series_title LIKE 'production and nonsupervisory employees%'"
            ],
            "metadata": {
                "azdata_cell_guid": "ee936cfd-9ea3-40fa-aa6f-096f54e36b3f",
                "language": "sql"
            },
            "outputs": [
                {
                    "output_type": "display_data",
                    "data": {
                        "text/html": "(1 row affected)"
                    },
                    "metadata": {}
                },
                {
                    "output_type": "display_data",
                    "data": {
                        "text/html": "Total execution time: 00:00:00.058"
                    },
                    "metadata": {}
                },
                {
                    "output_type": "execute_result",
                    "metadata": {},
                    "execution_count": 11,
                    "data": {
                        "application/vnd.dataresource+json": {
                            "schema": {
                                "fields": [
                                    {
                                        "name": "Number of Employees in 2016"
                                    }
                                ]
                            },
                            "data": [
                                {
                                    "0": "1263650"
                                }
                            ]
                        },
                        "text/html": [
                            "<table>",
                            "<tr><th>Number of Employees in 2016</th></tr>",
                            "<tr><td>1263650</td></tr>",
                            "</table>"
                        ]
                    }
                }
            ],
            "execution_count": 11
        },
        {
            "cell_type": "markdown",
            "source": [
                "4. <span style=\"background-color: rgb(255, 255, 255); font-size: 10pt; white-space: pre-wrap; color: rgb(102, 102, 102); font-family: Arvo, serif;\">In January 2017, what is the average weekly hours worked by production and nonsupervisory employees across all industries?</span>"
            ],
            "metadata": {
                "azdata_cell_guid": "9caa7f57-e39d-4b7a-b705-25f8fe29d60b"
            },
            "attachments": {}
        },
        {
            "cell_type": "code",
            "source": [
                "SELECT ROUND(AVG(j.value), 2) AS \"average weekly hours worked by production and nonsupervisory employees across all industries in 2017 \"\n",
                "FROM LaborStatisticsDB.dbo.january_2017 AS j \n",
                "JOIN LaborStatisticsDB.dbo.series AS s\n",
                "ON j.series_id = s.series_id\n",
                "JOIN LaborStatisticsDB.dbo.datatype AS dt \n",
                "ON s.data_type_code = dt.data_type_code\n",
                "WHERE dt.data_type_code = 7;\n",
                ""
            ],
            "metadata": {
                "azdata_cell_guid": "6542fed8-2827-42ec-804d-b09bf3b2d83f",
                "language": "sql",
                "tags": []
            },
            "outputs": [
                {
                    "output_type": "display_data",
                    "data": {
                        "text/html": "(1 row affected)"
                    },
                    "metadata": {}
                },
                {
                    "output_type": "display_data",
                    "data": {
                        "text/html": "Total execution time: 00:00:00.064"
                    },
                    "metadata": {}
                },
                {
                    "output_type": "execute_result",
                    "execution_count": 34,
                    "data": {
                        "application/vnd.dataresource+json": {
                            "schema": {
                                "fields": [
                                    {
                                        "name": "average weekly hours worked by production and nonsupervisory employees across all industries in 2017 "
                                    }
                                ]
                            },
                            "data": [
                                {
                                    "0": "36.06"
                                }
                            ]
                        },
                        "text/html": "<table><tr><th>average weekly hours worked by production and nonsupervisory employees across all industries in 2017 </th></tr><tr><td>36.06</td></tr></table>"
                    },
                    "metadata": {}
                }
            ],
            "execution_count": 34
        },
        {
            "cell_type": "code",
            "source": [
                "-- step 1.. looking at data\n",
                "SELECT TOP 10 *\n",
                "FROM LaborStatisticsDB.dbo.january_2017\n",
                ""
            ],
            "metadata": {
                "azdata_cell_guid": "9f07fa8a-4217-439a-a9cd-831240d4bc9e",
                "language": "sql"
            },
            "outputs": [
                {
                    "output_type": "display_data",
                    "data": {
                        "text/html": "(10 rows affected)"
                    },
                    "metadata": {}
                },
                {
                    "output_type": "display_data",
                    "data": {
                        "text/html": "Total execution time: 00:00:00.034"
                    },
                    "metadata": {}
                },
                {
                    "output_type": "execute_result",
                    "execution_count": 83,
                    "data": {
                        "application/vnd.dataresource+json": {
                            "schema": {
                                "fields": [
                                    {
                                        "name": "id"
                                    },
                                    {
                                        "name": "series_id"
                                    },
                                    {
                                        "name": "year"
                                    },
                                    {
                                        "name": "period"
                                    },
                                    {
                                        "name": "value"
                                    },
                                    {
                                        "name": "footnote_codes"
                                    },
                                    {
                                        "name": "original_file"
                                    }
                                ]
                            },
                            "data": [
                                {
                                    "0": "0",
                                    "1": "CES5500000007",
                                    "2": "2017",
                                    "3": "M01",
                                    "4": "36.9",
                                    "5": "NULL",
                                    "6": "ce.data.55c.FinancialActivities.ProductionEmployeeHoursAndEarnings.csv"
                                },
                                {
                                    "0": "1",
                                    "1": "CES5500000008",
                                    "2": "2017",
                                    "3": "M01",
                                    "4": "26.27",
                                    "5": "NULL",
                                    "6": "ce.data.55c.FinancialActivities.ProductionEmployeeHoursAndEarnings.csv"
                                },
                                {
                                    "0": "2",
                                    "1": "CES5500000030",
                                    "2": "2017",
                                    "3": "M01",
                                    "4": "969.36",
                                    "5": "NULL",
                                    "6": "ce.data.55c.FinancialActivities.ProductionEmployeeHoursAndEarnings.csv"
                                },
                                {
                                    "0": "3",
                                    "1": "CES5500000031",
                                    "2": "2017",
                                    "3": "M01",
                                    "4": "406.67",
                                    "5": "NULL",
                                    "6": "ce.data.55c.FinancialActivities.ProductionEmployeeHoursAndEarnings.csv"
                                },
                                {
                                    "0": "4",
                                    "1": "CES5500000032",
                                    "2": "2017",
                                    "3": "M01",
                                    "4": "11.02",
                                    "5": "NULL",
                                    "6": "ce.data.55c.FinancialActivities.ProductionEmployeeHoursAndEarnings.csv"
                                },
                                {
                                    "0": "5",
                                    "1": "CES5500000034",
                                    "2": "2017",
                                    "3": "M01",
                                    "4": "113.4",
                                    "5": "NULL",
                                    "6": "ce.data.55c.FinancialActivities.ProductionEmployeeHoursAndEarnings.csv"
                                },
                                {
                                    "0": "6",
                                    "1": "CES5500000035",
                                    "2": "2017",
                                    "3": "M01",
                                    "4": "183.3",
                                    "5": "NULL",
                                    "6": "ce.data.55c.FinancialActivities.ProductionEmployeeHoursAndEarnings.csv"
                                },
                                {
                                    "0": "7",
                                    "1": "CES5500000081",
                                    "2": "2017",
                                    "3": "M01",
                                    "4": "240920",
                                    "5": "NULL",
                                    "6": "ce.data.55c.FinancialActivities.ProductionEmployeeHoursAndEarnings.csv"
                                },
                                {
                                    "0": "8",
                                    "1": "CES5500000082",
                                    "2": "2017",
                                    "3": "M01",
                                    "4": "6328968",
                                    "5": "NULL",
                                    "6": "ce.data.55c.FinancialActivities.ProductionEmployeeHoursAndEarnings.csv"
                                },
                                {
                                    "0": "9",
                                    "1": "CES5552200007",
                                    "2": "2017",
                                    "3": "M01",
                                    "4": "37.5",
                                    "5": "NULL",
                                    "6": "ce.data.55c.FinancialActivities.ProductionEmployeeHoursAndEarnings.csv"
                                }
                            ]
                        },
                        "text/html": "<table><tr><th>id</th><th>series_id</th><th>year</th><th>period</th><th>value</th><th>footnote_codes</th><th>original_file</th></tr><tr><td>0</td><td>CES5500000007</td><td>2017</td><td>M01</td><td>36.9</td><td>NULL</td><td>ce.data.55c.FinancialActivities.ProductionEmployeeHoursAndEarnings.csv</td></tr><tr><td>1</td><td>CES5500000008</td><td>2017</td><td>M01</td><td>26.27</td><td>NULL</td><td>ce.data.55c.FinancialActivities.ProductionEmployeeHoursAndEarnings.csv</td></tr><tr><td>2</td><td>CES5500000030</td><td>2017</td><td>M01</td><td>969.36</td><td>NULL</td><td>ce.data.55c.FinancialActivities.ProductionEmployeeHoursAndEarnings.csv</td></tr><tr><td>3</td><td>CES5500000031</td><td>2017</td><td>M01</td><td>406.67</td><td>NULL</td><td>ce.data.55c.FinancialActivities.ProductionEmployeeHoursAndEarnings.csv</td></tr><tr><td>4</td><td>CES5500000032</td><td>2017</td><td>M01</td><td>11.02</td><td>NULL</td><td>ce.data.55c.FinancialActivities.ProductionEmployeeHoursAndEarnings.csv</td></tr><tr><td>5</td><td>CES5500000034</td><td>2017</td><td>M01</td><td>113.4</td><td>NULL</td><td>ce.data.55c.FinancialActivities.ProductionEmployeeHoursAndEarnings.csv</td></tr><tr><td>6</td><td>CES5500000035</td><td>2017</td><td>M01</td><td>183.3</td><td>NULL</td><td>ce.data.55c.FinancialActivities.ProductionEmployeeHoursAndEarnings.csv</td></tr><tr><td>7</td><td>CES5500000081</td><td>2017</td><td>M01</td><td>240920</td><td>NULL</td><td>ce.data.55c.FinancialActivities.ProductionEmployeeHoursAndEarnings.csv</td></tr><tr><td>8</td><td>CES5500000082</td><td>2017</td><td>M01</td><td>6328968</td><td>NULL</td><td>ce.data.55c.FinancialActivities.ProductionEmployeeHoursAndEarnings.csv</td></tr><tr><td>9</td><td>CES5552200007</td><td>2017</td><td>M01</td><td>37.5</td><td>NULL</td><td>ce.data.55c.FinancialActivities.ProductionEmployeeHoursAndEarnings.csv</td></tr></table>"
                    },
                    "metadata": {}
                }
            ],
            "execution_count": 83
        },
        {
            "cell_type": "code",
            "source": [
                "SELECT TOP 10 *\n",
                "FROM LaborStatisticsDB.dbo.series AS s\n",
                "WHERE s.series_title LIKE 'production and nonsupervisory employees%'"
            ],
            "metadata": {
                "azdata_cell_guid": "7f79c33b-63b5-46c8-855f-488206128df9",
                "language": "sql"
            },
            "outputs": [
                {
                    "output_type": "display_data",
                    "data": {
                        "text/html": "(10 rows affected)"
                    },
                    "metadata": {}
                },
                {
                    "output_type": "display_data",
                    "data": {
                        "text/html": "Total execution time: 00:00:00.044"
                    },
                    "metadata": {}
                },
                {
                    "output_type": "execute_result",
                    "execution_count": 22,
                    "data": {
                        "application/vnd.dataresource+json": {
                            "schema": {
                                "fields": [
                                    {
                                        "name": "series_id"
                                    },
                                    {
                                        "name": "supersector_code"
                                    },
                                    {
                                        "name": "industry_code"
                                    },
                                    {
                                        "name": "data_type_code"
                                    },
                                    {
                                        "name": "seasonal"
                                    },
                                    {
                                        "name": "series_title"
                                    }
                                ]
                            },
                            "data": [
                                {
                                    "0": "CES0500000006",
                                    "1": "5",
                                    "2": "05000000",
                                    "3": "6",
                                    "4": "S",
                                    "5": "Production and nonsupervisory employees"
                                },
                                {
                                    "0": "CES0600000006",
                                    "1": "6",
                                    "2": "06000000",
                                    "3": "6",
                                    "4": "S",
                                    "5": "Production and nonsupervisory employees"
                                },
                                {
                                    "0": "CES0800000006",
                                    "1": "8",
                                    "2": "08000000",
                                    "3": "6",
                                    "4": "S",
                                    "5": "Production and nonsupervisory employees"
                                },
                                {
                                    "0": "CES1000000006",
                                    "1": "10",
                                    "2": "10000000",
                                    "3": "6",
                                    "4": "S",
                                    "5": "Production and nonsupervisory employees"
                                },
                                {
                                    "0": "CES1011330006",
                                    "1": "10",
                                    "2": "10113300",
                                    "3": "6",
                                    "4": "S",
                                    "5": "Production and nonsupervisory employees"
                                },
                                {
                                    "0": "CES1021000006",
                                    "1": "10",
                                    "2": "10210000",
                                    "3": "6",
                                    "4": "S",
                                    "5": "Production and nonsupervisory employees"
                                },
                                {
                                    "0": "CES1021100006",
                                    "1": "10",
                                    "2": "10211000",
                                    "3": "6",
                                    "4": "S",
                                    "5": "Production and nonsupervisory employees"
                                },
                                {
                                    "0": "CES1021200006",
                                    "1": "10",
                                    "2": "10212000",
                                    "3": "6",
                                    "4": "S",
                                    "5": "Production and nonsupervisory employees"
                                },
                                {
                                    "0": "CES1021210006",
                                    "1": "10",
                                    "2": "10212100",
                                    "3": "6",
                                    "4": "S",
                                    "5": "Production and nonsupervisory employees"
                                },
                                {
                                    "0": "CES1021231006",
                                    "1": "10",
                                    "2": "10212310",
                                    "3": "6",
                                    "4": "S",
                                    "5": "Production and nonsupervisory employees"
                                }
                            ]
                        },
                        "text/html": "<table><tr><th>series_id</th><th>supersector_code</th><th>industry_code</th><th>data_type_code</th><th>seasonal</th><th>series_title</th></tr><tr><td>CES0500000006</td><td>5</td><td>05000000</td><td>6</td><td>S</td><td>Production and nonsupervisory employees</td></tr><tr><td>CES0600000006</td><td>6</td><td>06000000</td><td>6</td><td>S</td><td>Production and nonsupervisory employees</td></tr><tr><td>CES0800000006</td><td>8</td><td>08000000</td><td>6</td><td>S</td><td>Production and nonsupervisory employees</td></tr><tr><td>CES1000000006</td><td>10</td><td>10000000</td><td>6</td><td>S</td><td>Production and nonsupervisory employees</td></tr><tr><td>CES1011330006</td><td>10</td><td>10113300</td><td>6</td><td>S</td><td>Production and nonsupervisory employees</td></tr><tr><td>CES1021000006</td><td>10</td><td>10210000</td><td>6</td><td>S</td><td>Production and nonsupervisory employees</td></tr><tr><td>CES1021100006</td><td>10</td><td>10211000</td><td>6</td><td>S</td><td>Production and nonsupervisory employees</td></tr><tr><td>CES1021200006</td><td>10</td><td>10212000</td><td>6</td><td>S</td><td>Production and nonsupervisory employees</td></tr><tr><td>CES1021210006</td><td>10</td><td>10212100</td><td>6</td><td>S</td><td>Production and nonsupervisory employees</td></tr><tr><td>CES1021231006</td><td>10</td><td>10212310</td><td>6</td><td>S</td><td>Production and nonsupervisory employees</td></tr></table>"
                    },
                    "metadata": {}
                }
            ],
            "execution_count": 22
        },
        {
            "cell_type": "code",
            "source": [
                "SELECT TOP 10 *\n",
                "FROM LaborStatisticsDB.dbo.datatype AS dt\n",
                "WHERE dt.data_type_text LIKE 'average weekly hours%'\n",
                ""
            ],
            "metadata": {
                "azdata_cell_guid": "2c5862ad-b636-4171-b702-f9155ffffc12",
                "language": "sql"
            },
            "outputs": [
                {
                    "output_type": "display_data",
                    "data": {
                        "text/html": "(4 rows affected)"
                    },
                    "metadata": {}
                },
                {
                    "output_type": "display_data",
                    "data": {
                        "text/html": "Total execution time: 00:00:00.039"
                    },
                    "metadata": {}
                },
                {
                    "output_type": "execute_result",
                    "execution_count": 29,
                    "data": {
                        "application/vnd.dataresource+json": {
                            "schema": {
                                "fields": [
                                    {
                                        "name": "data_type_code"
                                    },
                                    {
                                        "name": "data_type_text"
                                    }
                                ]
                            },
                            "data": [
                                {
                                    "0": "2",
                                    "1": "AVERAGE WEEKLY HOURS OF ALL EMPLOYEES"
                                },
                                {
                                    "0": "7",
                                    "1": "AVERAGE WEEKLY HOURS OF PRODUCTION AND NONSUPERVISORY EMPLOYEES"
                                },
                                {
                                    "0": "19",
                                    "1": "AVERAGE WEEKLY HOURS OF ALL EMPLOYEES"
                                },
                                {
                                    "0": "36",
                                    "1": "AVERAGE WEEKLY HOURS"
                                }
                            ]
                        },
                        "text/html": "<table><tr><th>data_type_code</th><th>data_type_text</th></tr><tr><td>2</td><td>AVERAGE WEEKLY HOURS OF ALL EMPLOYEES</td></tr><tr><td>7</td><td>AVERAGE WEEKLY HOURS OF PRODUCTION AND NONSUPERVISORY EMPLOYEES</td></tr><tr><td>19</td><td>AVERAGE WEEKLY HOURS OF ALL EMPLOYEES</td></tr><tr><td>36</td><td>AVERAGE WEEKLY HOURS</td></tr></table>"
                    },
                    "metadata": {}
                }
            ],
            "execution_count": 29
        },
        {
            "cell_type": "code",
            "source": [
                "SELECT COUNT(jan.series_id) AS \"# prod/nonsup employees in 2017\"\n",
                "FROM LaborStatisticsDB.dbo.january_2017 AS jan\n",
                "LEFT JOIN LaborStatisticsDB.dbo.series AS s\n",
                "ON jan.series_id = s.series_id\n",
                "WHERE s.series_title LIKE 'production and nonsupervisory employees%'"
            ],
            "metadata": {
                "azdata_cell_guid": "ae21f288-b45e-4d55-bdb6-ca49bf385df7",
                "language": "sql"
            },
            "outputs": [
                {
                    "output_type": "display_data",
                    "data": {
                        "text/html": "(1 row affected)"
                    },
                    "metadata": {}
                },
                {
                    "output_type": "display_data",
                    "data": {
                        "text/html": "Total execution time: 00:00:00.072"
                    },
                    "metadata": {}
                },
                {
                    "output_type": "execute_result",
                    "execution_count": 88,
                    "data": {
                        "application/vnd.dataresource+json": {
                            "schema": {
                                "fields": [
                                    {
                                        "name": "# prod/nonsup employees in 2017"
                                    }
                                ]
                            },
                            "data": [
                                {
                                    "0": "2204"
                                }
                            ]
                        },
                        "text/html": "<table><tr><th># prod/nonsup employees in 2017</th></tr><tr><td>2204</td></tr></table>"
                    },
                    "metadata": {}
                }
            ],
            "execution_count": 88
        },
        {
            "cell_type": "code",
            "source": [
                "-- dtc has avg pay\n",
                "SELECT COUNT (dt.data_type_code) \n",
                "FROM LaborStatisticsDB.dbo.datatype AS dt\n",
                "LEFT JOIN LaborStatisticsDB.dbo.series AS s\n",
                "ON dt.data_type_code = s.data_type_code\n",
                "WHERE s.data_type_code = 8; "
            ],
            "metadata": {
                "azdata_cell_guid": "96260194-eba8-47fe-9c31-0b2876a944ff",
                "language": "sql",
                "tags": []
            },
            "outputs": [
                {
                    "output_type": "display_data",
                    "data": {
                        "text/html": "(1 row affected)"
                    },
                    "metadata": {}
                },
                {
                    "output_type": "display_data",
                    "data": {
                        "text/html": "Total execution time: 00:00:00.045"
                    },
                    "metadata": {}
                },
                {
                    "output_type": "execute_result",
                    "execution_count": 99,
                    "data": {
                        "application/vnd.dataresource+json": {
                            "schema": {
                                "fields": [
                                    {
                                        "name": "(No column name)"
                                    }
                                ]
                            },
                            "data": [
                                {
                                    "0": "1102"
                                }
                            ]
                        },
                        "text/html": "<table><tr><th>(No column name)</th></tr><tr><td>1102</td></tr></table>"
                    },
                    "metadata": {}
                }
            ],
            "execution_count": 99
        },
        {
            "cell_type": "markdown",
            "source": [
                "5. <span style=\"background-color: rgb(255, 255, 255); font-size: 10pt; white-space: pre-wrap; color: rgb(102, 102, 102); font-family: Arvo, serif;\">What is the total weekly payroll for production and nonsupervisory employees across all industries in January 2017? Round to the nearest penny, please.</span>"
            ],
            "metadata": {
                "azdata_cell_guid": "9c48ff2e-a6eb-4f02-8df2-988e219fbc00"
            },
            "attachments": {}
        },
        {
            "cell_type": "code",
            "source": [
                "-- **weekly payroll of all production and nonsupervisory employees across all industries in January 2017 --> \n",
                "SELECT TOP 1 (j.value) AS \"total weekly payroll for production and nonsupervisory employees across all industries in January 2017\"\n",
                "FROM LaborStatisticsDB.dbo.january_2017 AS j \n",
                "JOIN LaborStatisticsDB.dbo.series AS s \n",
                "ON s.series_id = j.series_id\n",
                "JOIN LaborStatisticsDB.dbo.datatype AS dt\n",
                "ON s.data_type_code = dt.data_type_code\n",
                "WHERE dt.data_type_code = 82; \n",
                ""
            ],
            "metadata": {
                "azdata_cell_guid": "c565641b-f1fa-4dbb-9320-24adfda97ca5",
                "language": "sql",
                "tags": []
            },
            "outputs": [
                {
                    "output_type": "display_data",
                    "data": {
                        "text/html": "(1 row affected)"
                    },
                    "metadata": {}
                },
                {
                    "output_type": "display_data",
                    "data": {
                        "text/html": "Total execution time: 00:00:00.043"
                    },
                    "metadata": {}
                },
                {
                    "output_type": "execute_result",
                    "execution_count": 77,
                    "data": {
                        "application/vnd.dataresource+json": {
                            "schema": {
                                "fields": [
                                    {
                                        "name": "total weekly payroll for production and nonsupervisory employees across all industries in January 2017"
                                    }
                                ]
                            },
                            "data": [
                                {
                                    "0": "74498171"
                                }
                            ]
                        },
                        "text/html": "<table><tr><th>total weekly payroll for production and nonsupervisory employees across all industries in January 2017</th></tr><tr><td>74498171</td></tr></table>"
                    },
                    "metadata": {}
                }
            ],
            "execution_count": 77
        },
        {
            "cell_type": "code",
            "source": [
                "SELECT TOP 10 *\n",
                "FROM LaborStatisticsDB.dbo.datatype AS dt\n",
                "WHERE dt.data_type_text LIKE '%employees%'"
            ],
            "metadata": {
                "azdata_cell_guid": "cf2cbe3d-37b4-4e8e-8f6d-0c1b11d3e99a",
                "language": "sql",
                "tags": []
            },
            "outputs": [
                {
                    "output_type": "display_data",
                    "data": {
                        "text/html": "(10 rows affected)"
                    },
                    "metadata": {}
                },
                {
                    "output_type": "display_data",
                    "data": {
                        "text/html": "Total execution time: 00:00:00.045"
                    },
                    "metadata": {}
                },
                {
                    "output_type": "execute_result",
                    "metadata": {},
                    "execution_count": 57,
                    "data": {
                        "application/vnd.dataresource+json": {
                            "schema": {
                                "fields": [
                                    {
                                        "name": "data_type_code"
                                    },
                                    {
                                        "name": "data_type_text"
                                    }
                                ]
                            },
                            "data": [
                                {
                                    "0": "1",
                                    "1": "ALL EMPLOYEES"
                                },
                                {
                                    "0": "2",
                                    "1": "AVERAGE WEEKLY HOURS OF ALL EMPLOYEES"
                                },
                                {
                                    "0": "3",
                                    "1": "AVERAGE HOURLY EARNINGS OF ALL EMPLOYEES"
                                },
                                {
                                    "0": "4",
                                    "1": "AVERAGE WEEKLY OVERTIME HOURS OF ALL EMPLOYEES"
                                },
                                {
                                    "0": "6",
                                    "1": "PRODUCTION AND NONSUPERVISORY EMPLOYEES"
                                },
                                {
                                    "0": "7",
                                    "1": "AVERAGE WEEKLY HOURS OF PRODUCTION AND NONSUPERVISORY EMPLOYEES"
                                },
                                {
                                    "0": "8",
                                    "1": "AVERAGE HOURLY EARNINGS OF PRODUCTION AND NONSUPERVISORY EMPLOYEES"
                                },
                                {
                                    "0": "9",
                                    "1": "AVERAGE WEEKLY OVERTIME HOURS OF PRODUCTION AND NONSUPERVISORY EMPLOYEES"
                                },
                                {
                                    "0": "10",
                                    "1": "WOMEN EMPLOYEES"
                                },
                                {
                                    "0": "11",
                                    "1": "AVERAGE WEEKLY EARNINGS OF ALL EMPLOYEES"
                                }
                            ]
                        },
                        "text/html": [
                            "<table>",
                            "<tr><th>data_type_code</th><th>data_type_text</th></tr>",
                            "<tr><td>1</td><td>ALL EMPLOYEES</td></tr>",
                            "<tr><td>2</td><td>AVERAGE WEEKLY HOURS OF ALL EMPLOYEES</td></tr>",
                            "<tr><td>3</td><td>AVERAGE HOURLY EARNINGS OF ALL EMPLOYEES</td></tr>",
                            "<tr><td>4</td><td>AVERAGE WEEKLY OVERTIME HOURS OF ALL EMPLOYEES</td></tr>",
                            "<tr><td>6</td><td>PRODUCTION AND NONSUPERVISORY EMPLOYEES</td></tr>",
                            "<tr><td>7</td><td>AVERAGE WEEKLY HOURS OF PRODUCTION AND NONSUPERVISORY EMPLOYEES</td></tr>",
                            "<tr><td>8</td><td>AVERAGE HOURLY EARNINGS OF PRODUCTION AND NONSUPERVISORY EMPLOYEES</td></tr>",
                            "<tr><td>9</td><td>AVERAGE WEEKLY OVERTIME HOURS OF PRODUCTION AND NONSUPERVISORY EMPLOYEES</td></tr>",
                            "<tr><td>10</td><td>WOMEN EMPLOYEES</td></tr>",
                            "<tr><td>11</td><td>AVERAGE WEEKLY EARNINGS OF ALL EMPLOYEES</td></tr>",
                            "</table>"
                        ]
                    }
                }
            ],
            "execution_count": 57
        },
        {
            "cell_type": "code",
            "source": [
                "SELECT *\n",
                "FROM LaborStatisticsDB.dbo.datatype AS dt\n",
                "WHERE dt.data_type_text LIKE '%weekly payroll%'"
            ],
            "metadata": {
                "azdata_cell_guid": "2e4ade25-17a6-40c6-8a7c-76f9c1d43b8a",
                "language": "sql"
            },
            "outputs": [
                {
                    "output_type": "display_data",
                    "data": {
                        "text/html": "(4 rows affected)"
                    },
                    "metadata": {}
                },
                {
                    "output_type": "display_data",
                    "data": {
                        "text/html": "Total execution time: 00:00:00.032"
                    },
                    "metadata": {}
                },
                {
                    "output_type": "execute_result",
                    "execution_count": 61,
                    "data": {
                        "application/vnd.dataresource+json": {
                            "schema": {
                                "fields": [
                                    {
                                        "name": "data_type_code"
                                    },
                                    {
                                        "name": "data_type_text"
                                    }
                                ]
                            },
                            "data": [
                                {
                                    "0": "17",
                                    "1": "INDEXES OF AGGREGATE WEEKLY PAYROLLS OF ALL EMPLOYEES"
                                },
                                {
                                    "0": "35",
                                    "1": "INDEXES OF AGGREGATE WEEKLY PAYROLLS OF PRODUCTION AND NONSUPERVISORY EMPLOYEES"
                                },
                                {
                                    "0": "57",
                                    "1": "AGGREGATE WEEKLY PAYROLLS OF ALL EMPLOYEES"
                                },
                                {
                                    "0": "82",
                                    "1": "AGGREGATE WEEKLY PAYROLLS OF PRODUCTION AND NONSUPERVISORY EMPLOYEES"
                                }
                            ]
                        },
                        "text/html": "<table><tr><th>data_type_code</th><th>data_type_text</th></tr><tr><td>17</td><td>INDEXES OF AGGREGATE WEEKLY PAYROLLS OF ALL EMPLOYEES</td></tr><tr><td>35</td><td>INDEXES OF AGGREGATE WEEKLY PAYROLLS OF PRODUCTION AND NONSUPERVISORY EMPLOYEES</td></tr><tr><td>57</td><td>AGGREGATE WEEKLY PAYROLLS OF ALL EMPLOYEES</td></tr><tr><td>82</td><td>AGGREGATE WEEKLY PAYROLLS OF PRODUCTION AND NONSUPERVISORY EMPLOYEES</td></tr></table>"
                    },
                    "metadata": {}
                }
            ],
            "execution_count": 61
        },
        {
            "cell_type": "markdown",
            "source": [
                "6. <span style=\"background-color: rgb(255, 255, 255); font-size: 10pt; white-space: pre-wrap; color: rgb(102, 102, 102); font-family: Arvo, serif;\">In January 2017, which industry was the average weekly hours worked by production and nonsupervisory employees the highest? Which industry was the lowest?</span>"
            ],
            "metadata": {
                "azdata_cell_guid": "862fd406-4fff-49bb-9d2b-232275a06405"
            },
            "attachments": {}
        },
        {
            "cell_type": "code",
            "source": [
                "-- Highest avg weekly hours worked --> MOtor vehicle power train components\n",
                "SELECT TOP 10 AVG(j.value) AS \"avg weekly hours worked\", i.industry_name AS \"industry\"\n",
                "FROM LaborStatisticsDB.dbo.january_2017 AS j \n",
                "JOIN LaborStatisticsDB.dbo.series AS s\n",
                "ON j.series_id = s.series_id\n",
                "JOIN LaborStatisticsDB.dbo.industry AS i \n",
                "ON i.industry_code = s.industry_code\n",
                "JOIN LaborStatisticsDB.dbo.datatype AS dt\n",
                "ON dt.data_type_code = s.data_type_code\n",
                "WHERE dt.data_type_code = 7\n",
                "GROUP BY i.industry_name \n",
                "ORDER BY AVG(j.value) DESC\n",
                "\n",
                ""
            ],
            "metadata": {
                "azdata_cell_guid": "7793ec45-1043-49f9-a60b-700ee8803422",
                "language": "sql"
            },
            "outputs": [
                {
                    "output_type": "display_data",
                    "data": {
                        "text/html": "(10 rows affected)"
                    },
                    "metadata": {}
                },
                {
                    "output_type": "display_data",
                    "data": {
                        "text/html": "Total execution time: 00:00:00.080"
                    },
                    "metadata": {}
                },
                {
                    "output_type": "execute_result",
                    "metadata": {},
                    "execution_count": 58,
                    "data": {
                        "application/vnd.dataresource+json": {
                            "schema": {
                                "fields": [
                                    {
                                        "name": "avg weekly hours worked"
                                    },
                                    {
                                        "name": "industry"
                                    }
                                ]
                            },
                            "data": [
                                {
                                    "0": "49.6",
                                    "1": "Motor vehicle power train components"
                                },
                                {
                                    "0": "47.2",
                                    "1": "Support activities for mining"
                                },
                                {
                                    "0": "46.7",
                                    "1": "Support activities for oil and gas operations"
                                },
                                {
                                    "0": "46.699999999999996",
                                    "1": "Motor vehicle metal stamping"
                                },
                                {
                                    "0": "46.6",
                                    "1": "Coal mining"
                                },
                                {
                                    "0": "46.1",
                                    "1": "Oil and gas pipeline construction"
                                },
                                {
                                    "0": "46.025",
                                    "1": "Mining"
                                },
                                {
                                    "0": "45.7",
                                    "1": "Boilers"
                                },
                                {
                                    "0": "45.7",
                                    "1": "Crushed and broken limestone mining"
                                },
                                {
                                    "0": "45.65",
                                    "1": "Mining and logging"
                                }
                            ]
                        },
                        "text/html": [
                            "<table>",
                            "<tr><th>avg weekly hours worked</th><th>industry</th></tr>",
                            "<tr><td>49.6</td><td>Motor vehicle power train components</td></tr>",
                            "<tr><td>47.2</td><td>Support activities for mining</td></tr>",
                            "<tr><td>46.7</td><td>Support activities for oil and gas operations</td></tr>",
                            "<tr><td>46.699999999999996</td><td>Motor vehicle metal stamping</td></tr>",
                            "<tr><td>46.6</td><td>Coal mining</td></tr>",
                            "<tr><td>46.1</td><td>Oil and gas pipeline construction</td></tr>",
                            "<tr><td>46.025</td><td>Mining</td></tr>",
                            "<tr><td>45.7</td><td>Boilers</td></tr>",
                            "<tr><td>45.7</td><td>Crushed and broken limestone mining</td></tr>",
                            "<tr><td>45.65</td><td>Mining and logging</td></tr>",
                            "</table>"
                        ]
                    }
                }
            ],
            "execution_count": 58
        },
        {
            "cell_type": "code",
            "source": [
                "-- new solution\n",
                "SELECT TOP 1 MAX(j.value) AS \"Max weekly hours worked\", i.industry_name AS \"industry\"\n",
                "FROM LaborStatisticsDB.dbo.january_2017 AS j \n",
                "JOIN LaborStatisticsDB.dbo.series AS s\n",
                "ON j.series_id = s.series_id\n",
                "JOIN LaborStatisticsDB.dbo.industry AS i \n",
                "ON i.industry_code = s.industry_code\n",
                "JOIN LaborStatisticsDB.dbo.datatype AS dt\n",
                "ON dt.data_type_code = s.data_type_code\n",
                "WHERE dt.data_type_code = 7\n",
                "GROUP BY i.industry_name \n",
                "ORDER BY AVG(j.value) DESC"
            ],
            "metadata": {
                "azdata_cell_guid": "33580c37-9f8b-4aef-b6b9-e595da9fa3d6",
                "language": "sql"
            },
            "outputs": [
                {
                    "output_type": "display_data",
                    "data": {
                        "text/html": "(1 row affected)"
                    },
                    "metadata": {}
                },
                {
                    "output_type": "display_data",
                    "data": {
                        "text/html": "Total execution time: 00:00:00.127"
                    },
                    "metadata": {}
                },
                {
                    "output_type": "execute_result",
                    "metadata": {},
                    "execution_count": 12,
                    "data": {
                        "application/vnd.dataresource+json": {
                            "schema": {
                                "fields": [
                                    {
                                        "name": "Max weekly hours worked"
                                    },
                                    {
                                        "name": "industry"
                                    }
                                ]
                            },
                            "data": [
                                {
                                    "0": "49.8",
                                    "1": "Motor vehicle power train components"
                                }
                            ]
                        },
                        "text/html": [
                            "<table>",
                            "<tr><th>Max weekly hours worked</th><th>industry</th></tr>",
                            "<tr><td>49.8</td><td>Motor vehicle power train components</td></tr>",
                            "</table>"
                        ]
                    }
                }
            ],
            "execution_count": 12
        },
        {
            "cell_type": "code",
            "source": [
                "-- new solution\n",
                "SELECT TOP 1 MIN(j.value) AS \"Min weekly hours worked\", i.industry_name AS \"industry\"\n",
                "FROM LaborStatisticsDB.dbo.january_2017 AS j \n",
                "JOIN LaborStatisticsDB.dbo.series AS s\n",
                "ON j.series_id = s.series_id\n",
                "JOIN LaborStatisticsDB.dbo.industry AS i \n",
                "ON i.industry_code = s.industry_code\n",
                "JOIN LaborStatisticsDB.dbo.datatype AS dt\n",
                "ON dt.data_type_code = s.data_type_code\n",
                "WHERE dt.data_type_code = 7\n",
                "GROUP BY i.industry_name \n",
                "ORDER BY AVG(j.value) ASC"
            ],
            "metadata": {
                "azdata_cell_guid": "5f073e2c-9018-460b-b68a-ae6fa7fe6d87",
                "language": "sql"
            },
            "outputs": [
                {
                    "output_type": "display_data",
                    "data": {
                        "text/html": "(1 row affected)"
                    },
                    "metadata": {}
                },
                {
                    "output_type": "display_data",
                    "data": {
                        "text/html": "Total execution time: 00:00:00.079"
                    },
                    "metadata": {}
                },
                {
                    "output_type": "execute_result",
                    "metadata": {},
                    "execution_count": 13,
                    "data": {
                        "application/vnd.dataresource+json": {
                            "schema": {
                                "fields": [
                                    {
                                        "name": "Min weekly hours worked"
                                    },
                                    {
                                        "name": "industry"
                                    }
                                ]
                            },
                            "data": [
                                {
                                    "0": "16.7",
                                    "1": "Fitness and recreational sports centers"
                                }
                            ]
                        },
                        "text/html": [
                            "<table>",
                            "<tr><th>Min weekly hours worked</th><th>industry</th></tr>",
                            "<tr><td>16.7</td><td>Fitness and recreational sports centers</td></tr>",
                            "</table>"
                        ]
                    }
                }
            ],
            "execution_count": 13
        },
        {
            "cell_type": "code",
            "source": [
                "-- Lowest avg weekly hours worked --> fitness and recreational sports centers\n",
                "SELECT TOP 10 AVG(j.value) AS \"avg weekly hours worked\", i.industry_name AS \"industry\"\n",
                "FROM LaborStatisticsDB.dbo.january_2017 AS j \n",
                "JOIN LaborStatisticsDB.dbo.series AS s\n",
                "ON j.series_id = s.series_id\n",
                "JOIN LaborStatisticsDB.dbo.industry AS i \n",
                "ON i.industry_code = s.industry_code\n",
                "JOIN LaborStatisticsDB.dbo.datatype AS dt\n",
                "ON dt.data_type_code = s.data_type_code\n",
                "WHERE dt.data_type_code = 7\n",
                "GROUP BY i.industry_name \n",
                "ORDER BY AVG(j.value) ASC"
            ],
            "metadata": {
                "azdata_cell_guid": "b3e12665-604c-4e33-9d4c-ea1bc4eef6cf",
                "language": "sql"
            },
            "outputs": [
                {
                    "output_type": "display_data",
                    "data": {
                        "text/html": "(10 rows affected)"
                    },
                    "metadata": {}
                },
                {
                    "output_type": "display_data",
                    "data": {
                        "text/html": "Total execution time: 00:00:00.072"
                    },
                    "metadata": {}
                },
                {
                    "output_type": "execute_result",
                    "metadata": {},
                    "execution_count": 59,
                    "data": {
                        "application/vnd.dataresource+json": {
                            "schema": {
                                "fields": [
                                    {
                                        "name": "avg weekly hours worked"
                                    },
                                    {
                                        "name": "industry"
                                    }
                                ]
                            },
                            "data": [
                                {
                                    "0": "16.85",
                                    "1": "Fitness and recreational sports centers"
                                },
                                {
                                    "0": "18.3",
                                    "1": "Civic and social organizations"
                                },
                                {
                                    "0": "18.8",
                                    "1": "Family clothing stores"
                                },
                                {
                                    "0": "18.8",
                                    "1": "Women's clothing stores"
                                },
                                {
                                    "0": "19.3",
                                    "1": "Skiing facilities"
                                },
                                {
                                    "0": "19.6",
                                    "1": "Clothing stores"
                                },
                                {
                                    "0": "20.2",
                                    "1": "Bowling centers"
                                },
                                {
                                    "0": "21.2",
                                    "1": "Clothing accessories stores"
                                },
                                {
                                    "0": "21.3",
                                    "1": "Clothing and clothing accessories stores"
                                },
                                {
                                    "0": "21.35",
                                    "1": "Drinking places"
                                }
                            ]
                        },
                        "text/html": [
                            "<table>",
                            "<tr><th>avg weekly hours worked</th><th>industry</th></tr>",
                            "<tr><td>16.85</td><td>Fitness and recreational sports centers</td></tr>",
                            "<tr><td>18.3</td><td>Civic and social organizations</td></tr>",
                            "<tr><td>18.8</td><td>Family clothing stores</td></tr>",
                            "<tr><td>18.8</td><td>Women's clothing stores</td></tr>",
                            "<tr><td>19.3</td><td>Skiing facilities</td></tr>",
                            "<tr><td>19.6</td><td>Clothing stores</td></tr>",
                            "<tr><td>20.2</td><td>Bowling centers</td></tr>",
                            "<tr><td>21.2</td><td>Clothing accessories stores</td></tr>",
                            "<tr><td>21.3</td><td>Clothing and clothing accessories stores</td></tr>",
                            "<tr><td>21.35</td><td>Drinking places</td></tr>",
                            "</table>"
                        ]
                    }
                }
            ],
            "execution_count": 59
        },
        {
            "cell_type": "code",
            "source": [
                "SELECT TOP 10 * \n",
                "FROM LaborStatisticsDB.dbo.series AS s \n",
                "WHERE s.series_title LIKE 'production and nonsupervisory employees%'"
            ],
            "metadata": {
                "azdata_cell_guid": "141b790c-8c89-45b7-91d5-4be689b4abdc",
                "language": "sql"
            },
            "outputs": [
                {
                    "output_type": "display_data",
                    "data": {
                        "text/html": "(10 rows affected)"
                    },
                    "metadata": {}
                },
                {
                    "output_type": "display_data",
                    "data": {
                        "text/html": "Total execution time: 00:00:00.044"
                    },
                    "metadata": {}
                },
                {
                    "output_type": "execute_result",
                    "metadata": {},
                    "execution_count": 60,
                    "data": {
                        "application/vnd.dataresource+json": {
                            "schema": {
                                "fields": [
                                    {
                                        "name": "series_id"
                                    },
                                    {
                                        "name": "supersector_code"
                                    },
                                    {
                                        "name": "industry_code"
                                    },
                                    {
                                        "name": "data_type_code"
                                    },
                                    {
                                        "name": "seasonal"
                                    },
                                    {
                                        "name": "series_title"
                                    }
                                ]
                            },
                            "data": [
                                {
                                    "0": "CES0500000006",
                                    "1": "5",
                                    "2": "05000000",
                                    "3": "6",
                                    "4": "S",
                                    "5": "Production and nonsupervisory employees"
                                },
                                {
                                    "0": "CES0600000006",
                                    "1": "6",
                                    "2": "06000000",
                                    "3": "6",
                                    "4": "S",
                                    "5": "Production and nonsupervisory employees"
                                },
                                {
                                    "0": "CES0800000006",
                                    "1": "8",
                                    "2": "08000000",
                                    "3": "6",
                                    "4": "S",
                                    "5": "Production and nonsupervisory employees"
                                },
                                {
                                    "0": "CES1000000006",
                                    "1": "10",
                                    "2": "10000000",
                                    "3": "6",
                                    "4": "S",
                                    "5": "Production and nonsupervisory employees"
                                },
                                {
                                    "0": "CES1011330006",
                                    "1": "10",
                                    "2": "10113300",
                                    "3": "6",
                                    "4": "S",
                                    "5": "Production and nonsupervisory employees"
                                },
                                {
                                    "0": "CES1021000006",
                                    "1": "10",
                                    "2": "10210000",
                                    "3": "6",
                                    "4": "S",
                                    "5": "Production and nonsupervisory employees"
                                },
                                {
                                    "0": "CES1021100006",
                                    "1": "10",
                                    "2": "10211000",
                                    "3": "6",
                                    "4": "S",
                                    "5": "Production and nonsupervisory employees"
                                },
                                {
                                    "0": "CES1021200006",
                                    "1": "10",
                                    "2": "10212000",
                                    "3": "6",
                                    "4": "S",
                                    "5": "Production and nonsupervisory employees"
                                },
                                {
                                    "0": "CES1021210006",
                                    "1": "10",
                                    "2": "10212100",
                                    "3": "6",
                                    "4": "S",
                                    "5": "Production and nonsupervisory employees"
                                },
                                {
                                    "0": "CES1021231006",
                                    "1": "10",
                                    "2": "10212310",
                                    "3": "6",
                                    "4": "S",
                                    "5": "Production and nonsupervisory employees"
                                }
                            ]
                        },
                        "text/html": [
                            "<table>",
                            "<tr><th>series_id</th><th>supersector_code</th><th>industry_code</th><th>data_type_code</th><th>seasonal</th><th>series_title</th></tr>",
                            "<tr><td>CES0500000006</td><td>5</td><td>05000000</td><td>6</td><td>S</td><td>Production and nonsupervisory employees</td></tr>",
                            "<tr><td>CES0600000006</td><td>6</td><td>06000000</td><td>6</td><td>S</td><td>Production and nonsupervisory employees</td></tr>",
                            "<tr><td>CES0800000006</td><td>8</td><td>08000000</td><td>6</td><td>S</td><td>Production and nonsupervisory employees</td></tr>",
                            "<tr><td>CES1000000006</td><td>10</td><td>10000000</td><td>6</td><td>S</td><td>Production and nonsupervisory employees</td></tr>",
                            "<tr><td>CES1011330006</td><td>10</td><td>10113300</td><td>6</td><td>S</td><td>Production and nonsupervisory employees</td></tr>",
                            "<tr><td>CES1021000006</td><td>10</td><td>10210000</td><td>6</td><td>S</td><td>Production and nonsupervisory employees</td></tr>",
                            "<tr><td>CES1021100006</td><td>10</td><td>10211000</td><td>6</td><td>S</td><td>Production and nonsupervisory employees</td></tr>",
                            "<tr><td>CES1021200006</td><td>10</td><td>10212000</td><td>6</td><td>S</td><td>Production and nonsupervisory employees</td></tr>",
                            "<tr><td>CES1021210006</td><td>10</td><td>10212100</td><td>6</td><td>S</td><td>Production and nonsupervisory employees</td></tr>",
                            "<tr><td>CES1021231006</td><td>10</td><td>10212310</td><td>6</td><td>S</td><td>Production and nonsupervisory employees</td></tr>",
                            "</table>"
                        ]
                    }
                }
            ],
            "execution_count": 60
        },
        {
            "cell_type": "code",
            "source": [
                "SELECT TOP 10 *\n",
                "FROM LaborStatisticsDB.dbo.datatype AS dt\n",
                ""
            ],
            "metadata": {
                "azdata_cell_guid": "28a0d3ae-f051-43d2-8ff2-c92e1bc278c9",
                "language": "sql"
            },
            "outputs": [
                {
                    "output_type": "display_data",
                    "data": {
                        "text/html": "(10 rows affected)"
                    },
                    "metadata": {}
                },
                {
                    "output_type": "display_data",
                    "data": {
                        "text/html": "Total execution time: 00:00:00.032"
                    },
                    "metadata": {}
                },
                {
                    "output_type": "execute_result",
                    "metadata": {},
                    "execution_count": 61,
                    "data": {
                        "application/vnd.dataresource+json": {
                            "schema": {
                                "fields": [
                                    {
                                        "name": "data_type_code"
                                    },
                                    {
                                        "name": "data_type_text"
                                    }
                                ]
                            },
                            "data": [
                                {
                                    "0": "1",
                                    "1": "ALL EMPLOYEES"
                                },
                                {
                                    "0": "2",
                                    "1": "AVERAGE WEEKLY HOURS OF ALL EMPLOYEES"
                                },
                                {
                                    "0": "3",
                                    "1": "AVERAGE HOURLY EARNINGS OF ALL EMPLOYEES"
                                },
                                {
                                    "0": "4",
                                    "1": "AVERAGE WEEKLY OVERTIME HOURS OF ALL EMPLOYEES"
                                },
                                {
                                    "0": "6",
                                    "1": "PRODUCTION AND NONSUPERVISORY EMPLOYEES"
                                },
                                {
                                    "0": "7",
                                    "1": "AVERAGE WEEKLY HOURS OF PRODUCTION AND NONSUPERVISORY EMPLOYEES"
                                },
                                {
                                    "0": "8",
                                    "1": "AVERAGE HOURLY EARNINGS OF PRODUCTION AND NONSUPERVISORY EMPLOYEES"
                                },
                                {
                                    "0": "9",
                                    "1": "AVERAGE WEEKLY OVERTIME HOURS OF PRODUCTION AND NONSUPERVISORY EMPLOYEES"
                                },
                                {
                                    "0": "10",
                                    "1": "WOMEN EMPLOYEES"
                                },
                                {
                                    "0": "11",
                                    "1": "AVERAGE WEEKLY EARNINGS OF ALL EMPLOYEES"
                                }
                            ]
                        },
                        "text/html": [
                            "<table>",
                            "<tr><th>data_type_code</th><th>data_type_text</th></tr>",
                            "<tr><td>1</td><td>ALL EMPLOYEES</td></tr>",
                            "<tr><td>2</td><td>AVERAGE WEEKLY HOURS OF ALL EMPLOYEES</td></tr>",
                            "<tr><td>3</td><td>AVERAGE HOURLY EARNINGS OF ALL EMPLOYEES</td></tr>",
                            "<tr><td>4</td><td>AVERAGE WEEKLY OVERTIME HOURS OF ALL EMPLOYEES</td></tr>",
                            "<tr><td>6</td><td>PRODUCTION AND NONSUPERVISORY EMPLOYEES</td></tr>",
                            "<tr><td>7</td><td>AVERAGE WEEKLY HOURS OF PRODUCTION AND NONSUPERVISORY EMPLOYEES</td></tr>",
                            "<tr><td>8</td><td>AVERAGE HOURLY EARNINGS OF PRODUCTION AND NONSUPERVISORY EMPLOYEES</td></tr>",
                            "<tr><td>9</td><td>AVERAGE WEEKLY OVERTIME HOURS OF PRODUCTION AND NONSUPERVISORY EMPLOYEES</td></tr>",
                            "<tr><td>10</td><td>WOMEN EMPLOYEES</td></tr>",
                            "<tr><td>11</td><td>AVERAGE WEEKLY EARNINGS OF ALL EMPLOYEES</td></tr>",
                            "</table>"
                        ]
                    }
                }
            ],
            "execution_count": 61
        },
        {
            "cell_type": "code",
            "source": [
                "-- \n",
                "SELECT TOP 10 *\n",
                "FROM LaborStatisticsDB.dbo.january_2017"
            ],
            "metadata": {
                "azdata_cell_guid": "c2adb90d-e1a8-4410-b05c-8bffe2ffdece",
                "language": "sql"
            },
            "outputs": [
                {
                    "output_type": "display_data",
                    "data": {
                        "text/html": "(10 rows affected)"
                    },
                    "metadata": {}
                },
                {
                    "output_type": "display_data",
                    "data": {
                        "text/html": "Total execution time: 00:00:00.035"
                    },
                    "metadata": {}
                },
                {
                    "output_type": "execute_result",
                    "execution_count": 106,
                    "data": {
                        "application/vnd.dataresource+json": {
                            "schema": {
                                "fields": [
                                    {
                                        "name": "id"
                                    },
                                    {
                                        "name": "series_id"
                                    },
                                    {
                                        "name": "year"
                                    },
                                    {
                                        "name": "period"
                                    },
                                    {
                                        "name": "value"
                                    },
                                    {
                                        "name": "footnote_codes"
                                    },
                                    {
                                        "name": "original_file"
                                    }
                                ]
                            },
                            "data": [
                                {
                                    "0": "0",
                                    "1": "CES5500000007",
                                    "2": "2017",
                                    "3": "M01",
                                    "4": "36.9",
                                    "5": "NULL",
                                    "6": "ce.data.55c.FinancialActivities.ProductionEmployeeHoursAndEarnings.csv"
                                },
                                {
                                    "0": "1",
                                    "1": "CES5500000008",
                                    "2": "2017",
                                    "3": "M01",
                                    "4": "26.27",
                                    "5": "NULL",
                                    "6": "ce.data.55c.FinancialActivities.ProductionEmployeeHoursAndEarnings.csv"
                                },
                                {
                                    "0": "2",
                                    "1": "CES5500000030",
                                    "2": "2017",
                                    "3": "M01",
                                    "4": "969.36",
                                    "5": "NULL",
                                    "6": "ce.data.55c.FinancialActivities.ProductionEmployeeHoursAndEarnings.csv"
                                },
                                {
                                    "0": "3",
                                    "1": "CES5500000031",
                                    "2": "2017",
                                    "3": "M01",
                                    "4": "406.67",
                                    "5": "NULL",
                                    "6": "ce.data.55c.FinancialActivities.ProductionEmployeeHoursAndEarnings.csv"
                                },
                                {
                                    "0": "4",
                                    "1": "CES5500000032",
                                    "2": "2017",
                                    "3": "M01",
                                    "4": "11.02",
                                    "5": "NULL",
                                    "6": "ce.data.55c.FinancialActivities.ProductionEmployeeHoursAndEarnings.csv"
                                },
                                {
                                    "0": "5",
                                    "1": "CES5500000034",
                                    "2": "2017",
                                    "3": "M01",
                                    "4": "113.4",
                                    "5": "NULL",
                                    "6": "ce.data.55c.FinancialActivities.ProductionEmployeeHoursAndEarnings.csv"
                                },
                                {
                                    "0": "6",
                                    "1": "CES5500000035",
                                    "2": "2017",
                                    "3": "M01",
                                    "4": "183.3",
                                    "5": "NULL",
                                    "6": "ce.data.55c.FinancialActivities.ProductionEmployeeHoursAndEarnings.csv"
                                },
                                {
                                    "0": "7",
                                    "1": "CES5500000081",
                                    "2": "2017",
                                    "3": "M01",
                                    "4": "240920",
                                    "5": "NULL",
                                    "6": "ce.data.55c.FinancialActivities.ProductionEmployeeHoursAndEarnings.csv"
                                },
                                {
                                    "0": "8",
                                    "1": "CES5500000082",
                                    "2": "2017",
                                    "3": "M01",
                                    "4": "6328968",
                                    "5": "NULL",
                                    "6": "ce.data.55c.FinancialActivities.ProductionEmployeeHoursAndEarnings.csv"
                                },
                                {
                                    "0": "9",
                                    "1": "CES5552200007",
                                    "2": "2017",
                                    "3": "M01",
                                    "4": "37.5",
                                    "5": "NULL",
                                    "6": "ce.data.55c.FinancialActivities.ProductionEmployeeHoursAndEarnings.csv"
                                }
                            ]
                        },
                        "text/html": "<table><tr><th>id</th><th>series_id</th><th>year</th><th>period</th><th>value</th><th>footnote_codes</th><th>original_file</th></tr><tr><td>0</td><td>CES5500000007</td><td>2017</td><td>M01</td><td>36.9</td><td>NULL</td><td>ce.data.55c.FinancialActivities.ProductionEmployeeHoursAndEarnings.csv</td></tr><tr><td>1</td><td>CES5500000008</td><td>2017</td><td>M01</td><td>26.27</td><td>NULL</td><td>ce.data.55c.FinancialActivities.ProductionEmployeeHoursAndEarnings.csv</td></tr><tr><td>2</td><td>CES5500000030</td><td>2017</td><td>M01</td><td>969.36</td><td>NULL</td><td>ce.data.55c.FinancialActivities.ProductionEmployeeHoursAndEarnings.csv</td></tr><tr><td>3</td><td>CES5500000031</td><td>2017</td><td>M01</td><td>406.67</td><td>NULL</td><td>ce.data.55c.FinancialActivities.ProductionEmployeeHoursAndEarnings.csv</td></tr><tr><td>4</td><td>CES5500000032</td><td>2017</td><td>M01</td><td>11.02</td><td>NULL</td><td>ce.data.55c.FinancialActivities.ProductionEmployeeHoursAndEarnings.csv</td></tr><tr><td>5</td><td>CES5500000034</td><td>2017</td><td>M01</td><td>113.4</td><td>NULL</td><td>ce.data.55c.FinancialActivities.ProductionEmployeeHoursAndEarnings.csv</td></tr><tr><td>6</td><td>CES5500000035</td><td>2017</td><td>M01</td><td>183.3</td><td>NULL</td><td>ce.data.55c.FinancialActivities.ProductionEmployeeHoursAndEarnings.csv</td></tr><tr><td>7</td><td>CES5500000081</td><td>2017</td><td>M01</td><td>240920</td><td>NULL</td><td>ce.data.55c.FinancialActivities.ProductionEmployeeHoursAndEarnings.csv</td></tr><tr><td>8</td><td>CES5500000082</td><td>2017</td><td>M01</td><td>6328968</td><td>NULL</td><td>ce.data.55c.FinancialActivities.ProductionEmployeeHoursAndEarnings.csv</td></tr><tr><td>9</td><td>CES5552200007</td><td>2017</td><td>M01</td><td>37.5</td><td>NULL</td><td>ce.data.55c.FinancialActivities.ProductionEmployeeHoursAndEarnings.csv</td></tr></table>"
                    },
                    "metadata": {}
                }
            ],
            "execution_count": 106
        },
        {
            "cell_type": "code",
            "source": [
                "SELECT TOP 10 *\n",
                "FROM LaborStatisticsDB.dbo.industry"
            ],
            "metadata": {
                "azdata_cell_guid": "7afeb791-dee3-489d-b4b6-cf56e2cde6e5",
                "language": "sql"
            },
            "outputs": [
                {
                    "output_type": "display_data",
                    "data": {
                        "text/html": "(10 rows affected)"
                    },
                    "metadata": {}
                },
                {
                    "output_type": "display_data",
                    "data": {
                        "text/html": "Total execution time: 00:00:00.040"
                    },
                    "metadata": {}
                },
                {
                    "output_type": "execute_result",
                    "metadata": {},
                    "execution_count": 62,
                    "data": {
                        "application/vnd.dataresource+json": {
                            "schema": {
                                "fields": [
                                    {
                                        "name": "id"
                                    },
                                    {
                                        "name": "industry_code"
                                    },
                                    {
                                        "name": "naics_code"
                                    },
                                    {
                                        "name": "publishing_status"
                                    },
                                    {
                                        "name": "industry_name"
                                    },
                                    {
                                        "name": "display_level"
                                    },
                                    {
                                        "name": "selectable"
                                    },
                                    {
                                        "name": "sort_sequence"
                                    }
                                ]
                            },
                            "data": [
                                {
                                    "0": "0",
                                    "1": "0",
                                    "2": "-",
                                    "3": "B",
                                    "4": "Total nonfarm",
                                    "5": "0",
                                    "6": "T",
                                    "7": "1"
                                },
                                {
                                    "0": "1",
                                    "1": "5000000",
                                    "2": "-",
                                    "3": "A",
                                    "4": "Total private",
                                    "5": "1",
                                    "6": "T",
                                    "7": "2"
                                },
                                {
                                    "0": "2",
                                    "1": "6000000",
                                    "2": "-",
                                    "3": "A",
                                    "4": "Goods-producing",
                                    "5": "1",
                                    "6": "T",
                                    "7": "3"
                                },
                                {
                                    "0": "3",
                                    "1": "7000000",
                                    "2": "-",
                                    "3": "B",
                                    "4": "Service-providing",
                                    "5": "1",
                                    "6": "T",
                                    "7": "4"
                                },
                                {
                                    "0": "4",
                                    "1": "8000000",
                                    "2": "-",
                                    "3": "A",
                                    "4": "Private service-providing",
                                    "5": "1",
                                    "6": "T",
                                    "7": "5"
                                },
                                {
                                    "0": "5",
                                    "1": "10000000",
                                    "2": "-",
                                    "3": "A",
                                    "4": "Mining and logging",
                                    "5": "2",
                                    "6": "T",
                                    "7": "6"
                                },
                                {
                                    "0": "6",
                                    "1": "10113300",
                                    "2": "1133",
                                    "3": "A",
                                    "4": "Logging",
                                    "5": "5",
                                    "6": "T",
                                    "7": "7"
                                },
                                {
                                    "0": "7",
                                    "1": "10210000",
                                    "2": "21",
                                    "3": "A",
                                    "4": "Mining",
                                    "5": "3",
                                    "6": "T",
                                    "7": "8"
                                },
                                {
                                    "0": "8",
                                    "1": "10211000",
                                    "2": "211",
                                    "3": "A",
                                    "4": "Oil and gas extraction",
                                    "5": "4",
                                    "6": "T",
                                    "7": "9"
                                },
                                {
                                    "0": "9",
                                    "1": "10212000",
                                    "2": "212",
                                    "3": "A",
                                    "4": "Mining",
                                    "5": "NULL",
                                    "6": "NULL",
                                    "7": "NULL"
                                }
                            ]
                        },
                        "text/html": [
                            "<table>",
                            "<tr><th>id</th><th>industry_code</th><th>naics_code</th><th>publishing_status</th><th>industry_name</th><th>display_level</th><th>selectable</th><th>sort_sequence</th></tr>",
                            "<tr><td>0</td><td>0</td><td>-</td><td>B</td><td>Total nonfarm</td><td>0</td><td>T</td><td>1</td></tr>",
                            "<tr><td>1</td><td>5000000</td><td>-</td><td>A</td><td>Total private</td><td>1</td><td>T</td><td>2</td></tr>",
                            "<tr><td>2</td><td>6000000</td><td>-</td><td>A</td><td>Goods-producing</td><td>1</td><td>T</td><td>3</td></tr>",
                            "<tr><td>3</td><td>7000000</td><td>-</td><td>B</td><td>Service-providing</td><td>1</td><td>T</td><td>4</td></tr>",
                            "<tr><td>4</td><td>8000000</td><td>-</td><td>A</td><td>Private service-providing</td><td>1</td><td>T</td><td>5</td></tr>",
                            "<tr><td>5</td><td>10000000</td><td>-</td><td>A</td><td>Mining and logging</td><td>2</td><td>T</td><td>6</td></tr>",
                            "<tr><td>6</td><td>10113300</td><td>1133</td><td>A</td><td>Logging</td><td>5</td><td>T</td><td>7</td></tr>",
                            "<tr><td>7</td><td>10210000</td><td>21</td><td>A</td><td>Mining</td><td>3</td><td>T</td><td>8</td></tr>",
                            "<tr><td>8</td><td>10211000</td><td>211</td><td>A</td><td>Oil and gas extraction</td><td>4</td><td>T</td><td>9</td></tr>",
                            "<tr><td>9</td><td>10212000</td><td>212</td><td>A</td><td>Mining</td><td>NULL</td><td>NULL</td><td>NULL</td></tr>",
                            "</table>"
                        ]
                    }
                }
            ],
            "execution_count": 62
        },
        {
            "cell_type": "markdown",
            "source": [
                "7. <span style=\"background-color: rgb(255, 255, 255); font-size: 10pt; white-space: pre-wrap; color: rgb(102, 102, 102); font-family: Arvo, serif;\">In January 2021, which industry was the total weekly payroll for production and nonsupervisory employees the highest? Which industry was the lowest?</span>"
            ],
            "metadata": {
                "azdata_cell_guid": "a53f4113-60c6-46d1-b9a3-34610c61d4f9"
            },
            "attachments": {}
        },
        {
            "cell_type": "code",
            "source": [
                "-- new solution\n",
                "-- Highest industry payroll --> total private\n",
                "SELECT TOP 1 ROUND(SUM(j.value),0) AS \"total weekly payroll\", i.industry_name\n",
                "FROM LaborStatisticsDB.dbo.january_2017 AS j \n",
                "JOIN LaborStatisticsDB.dbo.series AS s \n",
                "ON j.series_id = s.series_id\n",
                "JOIN LaborStatisticsDB.dbo.industry AS i\n",
                "ON i.industry_code = s.industry_code\n",
                "WHERE s.data_type_code = 30\n",
                "GROUP BY i.industry_name\n",
                "ORDER BY SUM(j.value) DESC "
            ],
            "metadata": {
                "azdata_cell_guid": "583695e6-7438-4e03-8970-1fe0c677a793",
                "language": "sql"
            },
            "outputs": [
                {
                    "output_type": "display_data",
                    "data": {
                        "text/html": "(1 row affected)"
                    },
                    "metadata": {}
                },
                {
                    "output_type": "display_data",
                    "data": {
                        "text/html": "Total execution time: 00:00:00.064"
                    },
                    "metadata": {}
                },
                {
                    "output_type": "execute_result",
                    "metadata": {},
                    "execution_count": 15,
                    "data": {
                        "application/vnd.dataresource+json": {
                            "schema": {
                                "fields": [
                                    {
                                        "name": "total weekly payroll"
                                    },
                                    {
                                        "name": "industry_name"
                                    }
                                ]
                            },
                            "data": [
                                {
                                    "0": "119157",
                                    "1": "NULL"
                                }
                            ]
                        },
                        "text/html": [
                            "<table>",
                            "<tr><th>total weekly payroll</th><th>industry_name</th></tr>",
                            "<tr><td>119157</td><td>NULL</td></tr>",
                            "</table>"
                        ]
                    }
                }
            ],
            "execution_count": 15
        },
        {
            "cell_type": "code",
            "source": [
                "SELECT TOP 1 MAX(j.value) AS \"total weekly payroll\", i.industry_name\n",
                "FROM LaborStatisticsDB.dbo.january_2017 AS j \n",
                "JOIN LaborStatisticsDB.dbo.series AS s \n",
                "ON j.series_id = s.series_id\n",
                "JOIN LaborStatisticsDB.dbo.industry AS i\n",
                "ON i.industry_code = s.industry_code\n",
                "WHERE s.data_type_code = 30\n",
                "GROUP BY i.industry_name"
            ],
            "metadata": {
                "azdata_cell_guid": "aa092c6d-c9d0-4895-b7ce-08be65ad04d0",
                "language": "sql"
            },
            "outputs": [
                {
                    "output_type": "display_data",
                    "data": {
                        "text/html": "(1 row affected)"
                    },
                    "metadata": {}
                },
                {
                    "output_type": "display_data",
                    "data": {
                        "text/html": "Total execution time: 00:00:01.525"
                    },
                    "metadata": {}
                },
                {
                    "output_type": "execute_result",
                    "metadata": {},
                    "execution_count": 17,
                    "data": {
                        "application/vnd.dataresource+json": {
                            "schema": {
                                "fields": [
                                    {
                                        "name": "total weekly payroll"
                                    },
                                    {
                                        "name": "industry_name"
                                    }
                                ]
                            },
                            "data": [
                                {
                                    "0": "1655.98",
                                    "1": "NULL"
                                }
                            ]
                        },
                        "text/html": [
                            "<table>",
                            "<tr><th>total weekly payroll</th><th>industry_name</th></tr>",
                            "<tr><td>1655.98</td><td>NULL</td></tr>",
                            "</table>"
                        ]
                    }
                }
            ],
            "execution_count": 17
        },
        {
            "cell_type": "code",
            "source": [
                "SELECT TOP 1 MIN(j.value) AS \"total weekly payroll\", i.industry_name\n",
                "FROM LaborStatisticsDB.dbo.january_2017 AS j \n",
                "JOIN LaborStatisticsDB.dbo.series AS s \n",
                "ON j.series_id = s.series_id\n",
                "JOIN LaborStatisticsDB.dbo.industry AS i\n",
                "ON i.industry_code = s.industry_code\n",
                "WHERE s.data_type_code = 30\n",
                "GROUP BY i.industry_name"
            ],
            "metadata": {
                "azdata_cell_guid": "e1bf707b-6884-463e-8169-3ab9bd1d2580",
                "language": "sql"
            },
            "outputs": [
                {
                    "output_type": "display_data",
                    "data": {
                        "text/html": "(1 row affected)"
                    },
                    "metadata": {}
                },
                {
                    "output_type": "display_data",
                    "data": {
                        "text/html": "Total execution time: 00:00:01.419"
                    },
                    "metadata": {}
                },
                {
                    "output_type": "execute_result",
                    "metadata": {},
                    "execution_count": 18,
                    "data": {
                        "application/vnd.dataresource+json": {
                            "schema": {
                                "fields": [
                                    {
                                        "name": "total weekly payroll"
                                    },
                                    {
                                        "name": "industry_name"
                                    }
                                ]
                            },
                            "data": [
                                {
                                    "0": "295.46",
                                    "1": "NULL"
                                }
                            ]
                        },
                        "text/html": [
                            "<table>",
                            "<tr><th>total weekly payroll</th><th>industry_name</th></tr>",
                            "<tr><td>295.46</td><td>NULL</td></tr>",
                            "</table>"
                        ]
                    }
                }
            ],
            "execution_count": 18
        },
        {
            "cell_type": "code",
            "source": [
                "-- new solution\n",
                "-- Lowest industry payroll\n",
                "SELECT TOP 1 SUM(j.value) AS \"total weekly payroll\", i.industry_name\n",
                "FROM LaborStatisticsDB.dbo.january_2017 AS j \n",
                "JOIN LaborStatisticsDB.dbo.series AS s \n",
                "ON j.series_id = s.series_id\n",
                "JOIN LaborStatisticsDB.dbo.industry AS i\n",
                "ON i.industry_code = s.industry_code\n",
                "WHERE s.data_type_code = 30\n",
                "GROUP BY i.industry_name\n",
                "ORDER BY SUM(j.value) ASC "
            ],
            "metadata": {
                "azdata_cell_guid": "83d9eaad-d9fa-421d-977f-e6a9ac2b1614",
                "language": "sql"
            },
            "outputs": [
                {
                    "output_type": "display_data",
                    "data": {
                        "text/html": "(1 row affected)"
                    },
                    "metadata": {}
                },
                {
                    "output_type": "display_data",
                    "data": {
                        "text/html": "Total execution time: 00:00:00.073"
                    },
                    "metadata": {}
                },
                {
                    "output_type": "execute_result",
                    "metadata": {},
                    "execution_count": 16,
                    "data": {
                        "application/vnd.dataresource+json": {
                            "schema": {
                                "fields": [
                                    {
                                        "name": "total weekly payroll"
                                    },
                                    {
                                        "name": "industry_name"
                                    }
                                ]
                            },
                            "data": [
                                {
                                    "0": "938.5",
                                    "1": "Bowling centers"
                                }
                            ]
                        },
                        "text/html": [
                            "<table>",
                            "<tr><th>total weekly payroll</th><th>industry_name</th></tr>",
                            "<tr><td>938.5</td><td>Bowling centers</td></tr>",
                            "</table>"
                        ]
                    }
                }
            ],
            "execution_count": 16
        },
        {
            "cell_type": "code",
            "source": [
                "-- Lowest industry payroll --> coin operated laundries\n",
                "SELECT TOP 1 SUM(j.value) AS \"total weekly payroll\", i.industry_name\n",
                "FROM LaborStatisticsDB.dbo.january_2017 AS j \n",
                "JOIN LaborStatisticsDB.dbo.series AS s \n",
                "ON j.series_id = s.series_id\n",
                "JOIN LaborStatisticsDB.dbo.industry AS i\n",
                "ON i.industry_code = s.industry_code\n",
                "WHERE s.data_type_code = 82\n",
                "GROUP BY i.industry_name\n",
                "ORDER BY SUM(j.value) ASC "
            ],
            "metadata": {
                "azdata_cell_guid": "c627b9f6-6175-4caf-83e6-b405bb84c3f3",
                "language": "sql"
            },
            "outputs": [
                {
                    "output_type": "display_data",
                    "data": {
                        "text/html": "(1 row affected)"
                    },
                    "metadata": {}
                },
                {
                    "output_type": "display_data",
                    "data": {
                        "text/html": "Total execution time: 00:00:00.088"
                    },
                    "metadata": {}
                },
                {
                    "output_type": "execute_result",
                    "execution_count": 93,
                    "data": {
                        "application/vnd.dataresource+json": {
                            "schema": {
                                "fields": [
                                    {
                                        "name": "total weekly payroll"
                                    },
                                    {
                                        "name": "industry_name"
                                    }
                                ]
                            },
                            "data": [
                                {
                                    "0": "40448",
                                    "1": "Coin-operated laundries and drycleaners"
                                }
                            ]
                        },
                        "text/html": "<table><tr><th>total weekly payroll</th><th>industry_name</th></tr><tr><td>40448</td><td>Coin-operated laundries and drycleaners</td></tr></table>"
                    },
                    "metadata": {}
                }
            ],
            "execution_count": 93
        },
        {
            "cell_type": "markdown",
            "source": [
                "## <span style=\"font-size: 12pt; font-family: Montserrat, sans-serif; color: rgb(53, 74, 95); background-color: rgb(255, 255, 255); font-weight: 700; font-variant-numeric: normal; font-variant-east-asian: normal; vertical-align: baseline; white-space: pre-wrap;\">Subqueries, Unions, Derived Tables, Oh My!</span>\n",
                "\n",
                "1. <span style=\"background-color: rgb(255, 255, 255); font-size: 10pt; white-space: pre-wrap; color: rgb(102, 102, 102); font-family: Arvo, serif;\">Write a query that returns the series_id, industry_code, industry_name, and value from the january_2017 table but only if that value is greater than the average value for annual_2016 of data_type_code 82.</span>"
            ],
            "metadata": {
                "azdata_cell_guid": "e98ec195-5399-4718-83ef-54fb954662a5"
            },
            "attachments": {}
        },
        {
            "cell_type": "code",
            "source": [
                "SELECT j.series_id, i.industry_code, i.industry_name, j.value\n",
                "FROM LaborStatisticsDB.dbo.january_2017 AS j, LaborStatisticsDB.dbo.industry AS i\n",
                "WHERE j.series_id = s.series_id AND s.industry_code = i.industry_code\n",
                "AND s.data_type_code = 82 AND j.value > (\n",
                "    SELECT AVG(a.value)\n",
                "    FROM LaborStatisticsDB.dbo.annual_2016 AS a \n",
                "    WHERE a.series_id IN (\n",
                "        FROM LaborStatisticsDB.dbo.series AS s \n",
                "        WHERE s.data_type_code = 82\n",
                "\n",
                "    )\n",
                ")\n",
                "GROUP BY j.series_id, i.industry_code, i.industry_name, j.value \n",
                "\n",
                ""
            ],
            "metadata": {
                "azdata_cell_guid": "aa7491ef-3b21-4b61-9d26-dbc128b2eb0d",
                "language": "sql",
                "tags": []
            },
            "outputs": [
                {
                    "output_type": "error",
                    "ename": "",
                    "evalue": "Msg 156, Level 15, State 1, Line 8\nIncorrect syntax near the keyword 'FROM'.",
                    "traceback": []
                },
                {
                    "output_type": "display_data",
                    "data": {
                        "text/html": "Total execution time: 00:00:00.036"
                    },
                    "metadata": {}
                }
            ],
            "execution_count": 141
        },
        {
            "cell_type": "code",
            "source": [
                "SELECT s.series_id, i.industry_code, i.industry_name, j.value \n",
                "FROM LaborStatisticsDB.dbo.industry AS i \n",
                "JOIN LaborStatisticsDB.dbo.series AS s \n",
                "ON i.industry_code = s.industry_code\n",
                "JOIN LaborStatisticsDB.dbo.january_2017 AS j \n",
                "ON \n",
                "WHERE j.value > AVG(a.value) AND s.data_type_code = 82;\n",
                "\n",
                ""
            ],
            "metadata": {
                "azdata_cell_guid": "7c85f70b-528f-4cbd-bd8e-a6efab1c18df",
                "language": "sql"
            },
            "outputs": [],
            "execution_count": null
        },
        {
            "cell_type": "code",
            "source": [
                "SELECT s.series_id, i.industry_code, i.industry_name, j.value \n",
                "FROM LaborStatisticsDB.dbo.january_2017 AS j \n",
                "WHERE j.value > (\n",
                "    SELECT AVG(a.value)\n",
                "    FROM LaborStatisticsDB.dbo.annual_2016 AS a\n",
                "    WHERE s.data_type_code = 82\n",
                ")\n",
                "\n",
                "JOIN LaborStatisticsDB.dbo.industry AS i \n",
                "ON i.industry_code = s.industry_code"
            ],
            "metadata": {
                "azdata_cell_guid": "756013a9-9860-41d1-b1fe-ee056be1ae7d",
                "language": "sql"
            },
            "outputs": [
                {
                    "output_type": "error",
                    "ename": "",
                    "evalue": "Msg 156, Level 15, State 1, Line 7\nIncorrect syntax near the keyword 'WHERE'.",
                    "traceback": []
                },
                {
                    "output_type": "display_data",
                    "data": {
                        "text/html": "Total execution time: 00:00:00.185"
                    },
                    "metadata": {}
                }
            ],
            "execution_count": 102
        },
        {
            "cell_type": "code",
            "source": [
                "SELECT TOP 10 s.series_id, i.industry_code, i.industry_name\n",
                "FROM LaborStatisticsDB.dbo.series AS s \n",
                "JOIN LaborStatisticsDB.dbo.industry AS i \n",
                "ON s.industry_code = i.industry_code\n",
                "WHERE s.series_id IN (\n",
                "    SELECT j.series_id\n",
                "    FROM LaborStatisticsDB.dbo.january_2017 AS j \n",
                "    WHERE j.value > (\n",
                "        SELECT AVG(a.value)\n",
                "        FROM LaborStatisticsDB.dbo.annual_2016 AS a\n",
                "        WHERE s.data_type_code = 82) \n",
                ");"
            ],
            "metadata": {
                "azdata_cell_guid": "7d73dfb5-47b0-4c8d-88b7-3d09dfde0b83",
                "language": "sql"
            },
            "outputs": [
                {
                    "output_type": "display_data",
                    "data": {
                        "text/html": "(10 rows affected)"
                    },
                    "metadata": {}
                },
                {
                    "output_type": "display_data",
                    "data": {
                        "text/html": "Total execution time: 00:00:02.616"
                    },
                    "metadata": {}
                },
                {
                    "output_type": "execute_result",
                    "metadata": {},
                    "execution_count": 65,
                    "data": {
                        "application/vnd.dataresource+json": {
                            "schema": {
                                "fields": [
                                    {
                                        "name": "series_id"
                                    },
                                    {
                                        "name": "industry_code"
                                    },
                                    {
                                        "name": "industry_name"
                                    }
                                ]
                            },
                            "data": [
                                {
                                    "0": "CES0500000082",
                                    "1": "5000000",
                                    "2": "Total private"
                                },
                                {
                                    "0": "CES0600000082",
                                    "1": "6000000",
                                    "2": "Goods-producing"
                                },
                                {
                                    "0": "CES0800000082",
                                    "1": "8000000",
                                    "2": "Private service-providing"
                                },
                                {
                                    "0": "CES1000000082",
                                    "1": "10000000",
                                    "2": "Mining and logging"
                                },
                                {
                                    "0": "CES1021000082",
                                    "1": "10210000",
                                    "2": "Mining"
                                },
                                {
                                    "0": "CES1021100082",
                                    "1": "10211000",
                                    "2": "Oil and gas extraction"
                                },
                                {
                                    "0": "CES1021200082",
                                    "1": "10212000",
                                    "2": "Mining"
                                },
                                {
                                    "0": "CES1021300082",
                                    "1": "10213000",
                                    "2": "Support activities for mining"
                                },
                                {
                                    "0": "CES1021311282",
                                    "1": "10213112",
                                    "2": "Support activities for oil and gas operations"
                                },
                                {
                                    "0": "CES2000000082",
                                    "1": "20000000",
                                    "2": "Construction"
                                }
                            ]
                        },
                        "text/html": [
                            "<table>",
                            "<tr><th>series_id</th><th>industry_code</th><th>industry_name</th></tr>",
                            "<tr><td>CES0500000082</td><td>5000000</td><td>Total private</td></tr>",
                            "<tr><td>CES0600000082</td><td>6000000</td><td>Goods-producing</td></tr>",
                            "<tr><td>CES0800000082</td><td>8000000</td><td>Private service-providing</td></tr>",
                            "<tr><td>CES1000000082</td><td>10000000</td><td>Mining and logging</td></tr>",
                            "<tr><td>CES1021000082</td><td>10210000</td><td>Mining</td></tr>",
                            "<tr><td>CES1021100082</td><td>10211000</td><td>Oil and gas extraction</td></tr>",
                            "<tr><td>CES1021200082</td><td>10212000</td><td>Mining</td></tr>",
                            "<tr><td>CES1021300082</td><td>10213000</td><td>Support activities for mining</td></tr>",
                            "<tr><td>CES1021311282</td><td>10213112</td><td>Support activities for oil and gas operations</td></tr>",
                            "<tr><td>CES2000000082</td><td>20000000</td><td>Construction</td></tr>",
                            "</table>"
                        ]
                    }
                }
            ],
            "execution_count": 65
        },
        {
            "cell_type": "markdown",
            "source": [
                "2. <span style=\"background-color: rgb(255, 255, 255); font-size: 10pt; white-space: pre-wrap; color: rgb(102, 102, 102); font-family: Arvo, serif;\">Create a Union table comparing average weekly earnings&nbsp; of production and nonsupervisory employees between annual_16 and january_17 using the data type 30.&nbsp; Round to the nearest penny.&nbsp; You should have a column for the average earnings and a column for the year, and the period.</span>"
            ],
            "metadata": {
                "azdata_cell_guid": "1bb0ed09-4b02-4132-910e-5903697628af"
            },
            "attachments": {}
        },
        {
            "cell_type": "code",
            "source": [
                "-- new solution\n",
                "SELECT TOP 1 a.value, a.year, a.period\n",
                "FROM LaborStatisticsDB.dbo.annual_2016 AS a\n",
                "INNER JOIN LaborStatisticsDB.dbo.series AS s on\n",
                "s.series_id = a. series_id\n",
                "WHERE s.data_type_code = 30\n",
                "UNION\n",
                "SELECT TOP 1 j.VALUE, j.YEAR, j.PERIOD\n",
                "FROM LaborStatisticsDB.dbo.january_2017 AS j\n",
                "INNER JOIN LaborStatisticsDB.dbo.series AS s on\n",
                "s.series_id = j.series_id\n",
                "WHERE s.data_type_code = 30"
            ],
            "metadata": {
                "azdata_cell_guid": "75f0d219-21e7-4d0e-99cf-80eb18035a46",
                "language": "sql",
                "tags": []
            },
            "outputs": [
                {
                    "output_type": "display_data",
                    "data": {
                        "text/html": "(2 rows affected)"
                    },
                    "metadata": {}
                },
                {
                    "output_type": "display_data",
                    "data": {
                        "text/html": "Total execution time: 00:00:02.956"
                    },
                    "metadata": {}
                },
                {
                    "output_type": "execute_result",
                    "metadata": {},
                    "execution_count": 72,
                    "data": {
                        "application/vnd.dataresource+json": {
                            "schema": {
                                "fields": [
                                    {
                                        "name": "value"
                                    },
                                    {
                                        "name": "year"
                                    },
                                    {
                                        "name": "period"
                                    }
                                ]
                            },
                            "data": [
                                {
                                    "0": "723.69",
                                    "1": "2016",
                                    "2": "M13"
                                },
                                {
                                    "0": "733.49",
                                    "1": "2017",
                                    "2": "M01"
                                }
                            ]
                        },
                        "text/html": [
                            "<table>",
                            "<tr><th>value</th><th>year</th><th>period</th></tr>",
                            "<tr><td>723.69</td><td>2016</td><td>M13</td></tr>",
                            "<tr><td>733.49</td><td>2017</td><td>M01</td></tr>",
                            "</table>"
                        ]
                    }
                }
            ],
            "execution_count": 72
        },
        {
            "cell_type": "code",
            "source": [
                "-- tried to make the list only 2 values, one from each year and then grouping them by value but it wont work. \n",
                "SELECT TOP 1 ROUND(AVG(a.value),0), a.year, a.period\n",
                "FROM LaborStatisticsDB.dbo.annual_2016 AS a\n",
                "INNER JOIN LaborStatisticsDB.dbo.series AS s on\n",
                "s.series_id = a. series_id\n",
                "WHERE s.data_type_code = 30\n",
                "UNION\n",
                "SELECT TOP 1 ROUND(AVG(j.VALUE),0), j.YEAR, j.PERIOD\n",
                "FROM LaborStatisticsDB.dbo.january_2017 AS j\n",
                "INNER JOIN LaborStatisticsDB.dbo.series AS s on\n",
                "s.series_id = j.series_id\n",
                "WHERE s.data_type_code = 30\n",
                "GROUP BY ROUND(AVG(a.value),0);"
            ],
            "metadata": {
                "azdata_cell_guid": "15a67eab-ba5f-4c24-b676-bc1851978fb8",
                "language": "sql",
                "tags": []
            },
            "outputs": [
                {
                    "output_type": "error",
                    "evalue": "Msg 8120, Level 16, State 1, Line 1\nColumn 'LaborStatisticsDB.dbo.annual_2016.year' is invalid in the select list because it is not contained in either an aggregate function or the GROUP BY clause.",
                    "ename": "",
                    "traceback": []
                },
                {
                    "output_type": "error",
                    "evalue": "Msg 4104, Level 16, State 1, Line 12\nThe multi-part identifier \"a.value\" could not be bound.",
                    "ename": "",
                    "traceback": []
                },
                {
                    "output_type": "display_data",
                    "data": {
                        "text/html": "Total execution time: 00:00:00.045"
                    },
                    "metadata": {}
                }
            ],
            "execution_count": 49
        },
        {
            "cell_type": "code",
            "source": [
                "SELECT TOP 1 ROUND(AVG(a.value),0), a.year, a.period\n",
                "FROM LaborStatisticsDB.dbo.annual_2016 AS a\n",
                "INNER JOIN LaborStatisticsDB.dbo.series AS s on\n",
                "s.series_id = a. series_id\n",
                "WHERE s.data_type_code = 30\n",
                "GROUP BY a.year\n",
                "UNION\n",
                "SELECT TOP 1 ROUND(AVG(j.VALUE),0), j.YEAR, j.PERIOD\n",
                "FROM LaborStatisticsDB.dbo.january_2017 AS j\n",
                "INNER JOIN LaborStatisticsDB.dbo.series AS s on\n",
                "s.series_id = j.series_id\n",
                "WHERE s.data_type_code = 30\n",
                "GROUP BY j.year\n",
                ""
            ],
            "metadata": {
                "azdata_cell_guid": "11723c11-6507-4657-a879-d5d0aac7573f",
                "language": "sql"
            },
            "outputs": [
                {
                    "output_type": "error",
                    "evalue": "Msg 8120, Level 16, State 1, Line 1\nColumn 'LaborStatisticsDB.dbo.annual_2016.period' is invalid in the select list because it is not contained in either an aggregate function or the GROUP BY clause.",
                    "ename": "",
                    "traceback": []
                },
                {
                    "output_type": "display_data",
                    "data": {
                        "text/html": "Total execution time: 00:00:00.039"
                    },
                    "metadata": {}
                }
            ],
            "execution_count": 51
        },
        {
            "cell_type": "code",
            "source": [
                "-- maybe?\n",
                "SELECT TOP 1(value), year, period\n",
                "FROM (\n",
                "    SELECT ROUND(AVG(a.value),0), a.year, a.period\n",
                "    FROM LaborStatisticsDB.dbo.annual_2016 AS a\n",
                "    INNER JOIN LaborStatisticsDB.dbo.series AS s ON\n",
                "    s.series_id = a. series_id\n",
                "    WHERE s.data_type_code = 30\n",
                "    UNION ALL\n",
                "    SELECT ROUND(AVG(j.VALUE),0), j.YEAR, j.PERIOD\n",
                "    FROM LaborStatisticsDB.dbo.january_2017 AS j\n",
                "    INNER JOIN LaborStatisticsDB.dbo.series AS s on\n",
                "    s.series_id = j.series_id\n",
                "    WHERE s.data_type_code = 30\n",
                ")\n",
                "GROUP BY year"
            ],
            "metadata": {
                "azdata_cell_guid": "e2924c72-0d31-4d30-b0c3-6e459031f828",
                "language": "sql"
            },
            "outputs": [
                {
                    "output_type": "error",
                    "evalue": "Msg 156, Level 15, State 1, Line 16\nIncorrect syntax near the keyword 'GROUP'.",
                    "ename": "",
                    "traceback": []
                },
                {
                    "output_type": "display_data",
                    "data": {
                        "text/html": "Total execution time: 00:00:00.032"
                    },
                    "metadata": {}
                }
            ],
            "execution_count": 56
        },
        {
            "cell_type": "code",
            "source": [
                "SELECT AVG(a.value) AS \"avg weekly earnings 2016\", a.year, a.period \n",
                "FROM LaborStatisticsDB.dbo.annual_2016 AS a \n",
                "UNION \n",
                "SELECT AVG(j.value) AS \"avg weekly earnings 2017\", j.year, j.period\n",
                "FROM LaborStatisticsDB.dbo.january_2017 AS j \n",
                "JOIN LaborStatisticsDB.dbo.series AS s \n",
                "ON j.series_id = s.series_id\n",
                "WHERE s.data_type_code = 30 \n",
                "GROUP BY AVG(a.value)\n",
                ""
            ],
            "metadata": {
                "azdata_cell_guid": "0841b6d6-9af2-41ba-8e28-dc40d08bd061",
                "language": "sql"
            },
            "outputs": [
                {
                    "output_type": "error",
                    "evalue": "Msg 8120, Level 16, State 1, Line 1\nColumn 'LaborStatisticsDB.dbo.annual_2016.year' is invalid in the select list because it is not contained in either an aggregate function or the GROUP BY clause.",
                    "ename": "",
                    "traceback": []
                },
                {
                    "output_type": "error",
                    "evalue": "Msg 4104, Level 16, State 1, Line 9\nThe multi-part identifier \"a.value\" could not be bound.",
                    "ename": "",
                    "traceback": []
                },
                {
                    "output_type": "display_data",
                    "data": {
                        "text/html": "Total execution time: 00:00:00.037"
                    },
                    "metadata": {}
                }
            ],
            "execution_count": 28
        },
        {
            "cell_type": "code",
            "source": [
                "-- seccond try\n",
                "SELECT AVG(a.value) AS \"avg weekly earnings 2016\", a.year, a.period \n",
                "FROM LaborStatisticsDB.dbo.annual_2016 AS a \n",
                "UNION \n",
                "SELECT AVG(j.value) AS \"avg weekly earnings 2017\", j.year, j.period\n",
                "FROM LaborStatisticsDB.dbo.january_2017 AS j \n",
                "JOIN LaborStatisticsDB.dbo.series AS s \n",
                "ON j.series_id = s.series_id\n",
                "WHERE s.data_type_code = 30 \n",
                "GROUP BY a.value"
            ],
            "metadata": {
                "azdata_cell_guid": "6286c524-9d39-4260-9317-915e52099a36",
                "language": "sql"
            },
            "outputs": [
                {
                    "output_type": "error",
                    "evalue": "Msg 8120, Level 16, State 1, Line 2\nColumn 'LaborStatisticsDB.dbo.annual_2016.year' is invalid in the select list because it is not contained in either an aggregate function or the GROUP BY clause.",
                    "ename": "",
                    "traceback": []
                },
                {
                    "output_type": "error",
                    "evalue": "Msg 4104, Level 16, State 1, Line 10\nThe multi-part identifier \"a.value\" could not be bound.",
                    "ename": "",
                    "traceback": []
                },
                {
                    "output_type": "display_data",
                    "data": {
                        "text/html": "Total execution time: 00:00:00.035"
                    },
                    "metadata": {}
                }
            ],
            "execution_count": 30
        },
        {
            "cell_type": "code",
            "source": [
                "SELECT AVG(a.value) AS \"avg weekly earnings 2016\", a.year, a.period \n",
                "FROM LaborStatisticsDB.dbo.annual_2016 AS a\n",
                "UNION \n",
                "SELECT AVG(j.value) AS \"avg weekly earnings 2017\", j.year, j.period\n",
                "FROM LaborStatisticsDB.dbo.january_2017 AS j \n",
                "UNION \n",
                "SELECT s.series_id, s.data_type_code\n",
                "FROM LaborStatisticsDB.dbo.series AS s \n",
                "WHERE s.data_type_code = 30 \n",
                ""
            ],
            "metadata": {
                "azdata_cell_guid": "5a4cfd51-5c4f-4e05-a7b7-426c80c24078",
                "language": "sql",
                "tags": []
            },
            "outputs": [
                {
                    "output_type": "error",
                    "ename": "",
                    "evalue": "Msg 156, Level 15, State 1, Line 7\nIncorrect syntax near the keyword 'UNION'.",
                    "traceback": []
                },
                {
                    "output_type": "display_data",
                    "data": {
                        "text/html": "Total execution time: 00:00:00.029"
                    },
                    "metadata": {}
                }
            ],
            "execution_count": 125
        },
        {
            "cell_type": "code",
            "source": [
                "SELECT AVG(a.value) AS \"avg weekly earnings 2016\", a.year, a.period \n",
                "FROM LaborStatisticsDB.dbo.annual_2016 AS a\n",
                "UNION \n",
                "SELECT AVG(j.value) AS \"avg weekly earnings 2017\", j.year, j.period\n",
                "FROM LaborStatisticsDB.dbo.january_2017 AS j \n",
                "UNION \n",
                "SELECT s.series_id, s.data_type_code\n",
                "FROM LaborStatisticsDB.dbo.series AS s \n",
                "WHERE s.data_type_code = 30 \n",
                "GROUP BY a.value"
            ],
            "metadata": {
                "azdata_cell_guid": "1beed64d-90bf-4bb5-a3e2-3752f58d287e",
                "language": "sql"
            },
            "outputs": [
                {
                    "output_type": "error",
                    "evalue": "Msg 8120, Level 16, State 1, Line 1\nColumn 'LaborStatisticsDB.dbo.annual_2016.year' is invalid in the select list because it is not contained in either an aggregate function or the GROUP BY clause.",
                    "ename": "",
                    "traceback": []
                },
                {
                    "output_type": "error",
                    "evalue": "Msg 4104, Level 16, State 1, Line 10\nThe multi-part identifier \"a.value\" could not be bound.",
                    "ename": "",
                    "traceback": []
                },
                {
                    "output_type": "display_data",
                    "data": {
                        "text/html": "Total execution time: 00:00:00.038"
                    },
                    "metadata": {}
                }
            ],
            "execution_count": 32
        },
        {
            "cell_type": "code",
            "source": [
                "SELECT TOP 1 j.value AS \"avg weekly earnings 2017\", j.year, j.period\n",
                "FROM LaborStatisticsDB.dbo.january_2017 AS j \n",
                "UNION \n",
                "SELECT TOP 1 a.value AS \"avg weekly earnings 2016\", a.year, a.period \n",
                "FROM LaborStatisticsDB.dbo.annual_2016 AS a\n",
                "ORDER BY value\n",
                "\n",
                "\n",
                ""
            ],
            "metadata": {
                "azdata_cell_guid": "8022b8fd-adb9-4919-ab24-62c31e63c650",
                "language": "sql",
                "tags": []
            },
            "outputs": [
                {
                    "output_type": "display_data",
                    "data": {
                        "text/html": "(2 rows affected)"
                    },
                    "metadata": {}
                },
                {
                    "output_type": "display_data",
                    "data": {
                        "text/html": "Total execution time: 00:00:00.038"
                    },
                    "metadata": {}
                },
                {
                    "output_type": "execute_result",
                    "metadata": {},
                    "execution_count": 69,
                    "data": {
                        "application/vnd.dataresource+json": {
                            "schema": {
                                "fields": [
                                    {
                                        "name": "avg weekly earnings 2017"
                                    },
                                    {
                                        "name": "year"
                                    },
                                    {
                                        "name": "period"
                                    }
                                ]
                            },
                            "data": [
                                {
                                    "0": "36.9",
                                    "1": "2016",
                                    "2": "M13"
                                },
                                {
                                    "0": "36.9",
                                    "1": "2017",
                                    "2": "M01"
                                }
                            ]
                        },
                        "text/html": [
                            "<table>",
                            "<tr><th>avg weekly earnings 2017</th><th>year</th><th>period</th></tr>",
                            "<tr><td>36.9</td><td>2016</td><td>M13</td></tr>",
                            "<tr><td>36.9</td><td>2017</td><td>M01</td></tr>",
                            "</table>"
                        ]
                    }
                }
            ],
            "execution_count": 69
        },
        {
            "cell_type": "code",
            "source": [
                "SELECT j.value AS \"avg weekly earnings 2017\", j.year, j.period\n",
                "FROM LaborStatisticsDB.dbo.january_2017 AS j \n",
                "UNION \n",
                "SELECT a.value AS \"avg weekly earnings 2016\", a.year, a.period \n",
                "FROM LaborStatisticsDB.dbo.annual_2016 AS a\n",
                "GROUP BY year\n",
                "ORDER BY value\n",
                ""
            ],
            "metadata": {
                "azdata_cell_guid": "ff4564fa-fd94-4755-9349-2600858e4470",
                "language": "sql"
            },
            "outputs": [
                {
                    "output_type": "error",
                    "evalue": "Msg 8120, Level 16, State 1, Line 4\nColumn 'LaborStatisticsDB.dbo.annual_2016.value' is invalid in the select list because it is not contained in either an aggregate function or the GROUP BY clause.",
                    "ename": "",
                    "traceback": []
                },
                {
                    "output_type": "display_data",
                    "data": {
                        "text/html": "Total execution time: 00:00:00.032"
                    },
                    "metadata": {}
                }
            ],
            "execution_count": 26
        },
        {
            "cell_type": "code",
            "source": [
                "SELECT a.value \n",
                "from LaborStatisticsDB.dbo.annual_2016 AS a\n",
                "   where a.value in\n",
                "      (select stor_id from\n",
                "         (select a.value from sales\n",
                "          union\n",
                "          select j.value from aborStatisticsDB.dbo.january_2017 AS j)\n",
                "       dt_stores)"
            ],
            "metadata": {
                "azdata_cell_guid": "f9012426-63c9-4025-9c18-8217537ff445",
                "language": "sql"
            },
            "outputs": [],
            "execution_count": null
        },
        {
            "cell_type": "markdown",
            "source": [
                "## <span style=\"font-size:12pt;font-family:Montserrat, sans-serif;color:rgb(53, 74, 95);background-color:rgb(255, 255, 255);font-weight:700;vertical-align:baseline;white-space:pre-wrap;\">Summarize Your Results</span>\n",
                "\n",
                "<span style=\"font-size:10pt;font-family:Arvo, serif;color:rgb(102, 102, 102);background-color:rgb(255, 255, 255);vertical-align:baseline;white-space:pre-wrap;\">With what you know now about the </span> <span style=\"background-color:rgb(255, 255, 255);color:rgb(102, 102, 102);font-family:&quot;Times New Roman&quot;;font-size:13.3333px;white-space:pre-wrap;\">Bureau of Labor Statistics (BLS) Current Employment Survey (CES) results and working with the</span> <span style=\"color:rgb(102, 102, 102);white-space:pre-wrap;font-family:&quot;Times New Roman&quot;;font-size:13.3333px;\">Labor Statistics Database</span><span style=\"background-color:rgb(255, 255, 255);color:rgb(102, 102, 102);font-family:Arvo, serif;font-size:10pt;white-space:pre-wrap;\">, answer the following questions. Note that while this is subjective, you should include relevant data to back up your opinion.</span>\n",
                "\n",
                "1. <span style=\"background-color:rgb(255, 255, 255);font-size:10pt;white-space:pre-wrap;color:rgb(102, 102, 102);font-family:Arvo, serif;\">During which time period did production and nonsupervisory employees fare better?</span>"
            ],
            "metadata": {
                "azdata_cell_guid": "780f65a6-b9e7-4f24-9132-293c47f559e8"
            },
            "attachments": {}
        },
        {
            "cell_type": "markdown",
            "source": [
                "The production and nonsupervisory employees did better in 2016."
            ],
            "metadata": {
                "azdata_cell_guid": "f11f1fb2-f7d1-41e5-bc9c-84087d7cfc93"
            },
            "attachments": {}
        },
        {
            "cell_type": "markdown",
            "source": [
                "2. <span style=\"background-color: rgb(255, 255, 255); font-size: 10pt; white-space: pre-wrap; color: rgb(102, 102, 102); font-family: Arvo, serif;\">In which industries did production and nonsupervisory employees fare better?</span>"
            ],
            "metadata": {
                "azdata_cell_guid": "f606e5e5-f6f1-4070-bbfa-e31617b43e56"
            },
            "attachments": {}
        },
        {
            "cell_type": "markdown",
            "source": [
                "Highest paid employees worked for the private sector and the lowest paid employees worked at bowling centers."
            ],
            "metadata": {
                "azdata_cell_guid": "94e18f5d-b87b-4ba6-b1fd-bde035dafc04"
            },
            "attachments": {}
        },
        {
            "cell_type": "markdown",
            "source": [
                "3. <span style=\"font-size: 10pt; font-family: Arvo, serif; color: rgb(102, 102, 102); background-color: rgb(255, 255, 255); font-variant-numeric: normal; font-variant-east-asian: normal; vertical-align: baseline; white-space: pre-wrap;\">Now that you have explored the datasets, is there any data or information that you wish you had in this analysis?</span>"
            ],
            "metadata": {
                "azdata_cell_guid": "101e4449-601a-46c6-b217-23f3339cfa76"
            },
            "attachments": {}
        },
        {
            "cell_type": "markdown",
            "source": [
                "A better list of what certain series\\_id titles were.  It was frusterating to always have to look up what the code might be for a certain group of employees."
            ],
            "metadata": {
                "azdata_cell_guid": "d07e9180-f5e0-49b4-b395-2c6c8a5f8aac"
            },
            "attachments": {}
        }
    ]
}